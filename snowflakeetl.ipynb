{
 "cells": [
  {
   "cell_type": "code",
   "execution_count": 46,
   "metadata": {},
   "outputs": [],
   "source": [
    "import sqlalchemy\n",
    "import pandas as pd\n",
    "import glob\n",
    "import os "
   ]
  },
  {
   "cell_type": "code",
   "execution_count": 9,
   "metadata": {},
   "outputs": [],
   "source": [
    "import snowflake.connector\n",
    "from sqlalchemy import create_engine "
   ]
  },
  {
   "cell_type": "code",
   "execution_count": 11,
   "metadata": {},
   "outputs": [],
   "source": [
    "from sqlalchemy import URL"
   ]
  },
  {
   "cell_type": "markdown",
   "metadata": {},
   "source": []
  },
  {
   "cell_type": "code",
   "execution_count": 24,
   "metadata": {},
   "outputs": [],
   "source": [
    "myfile = '/Users/alexandrabarkan/Desktop/Project/SnowflakePipeline/movies.csv'\n",
    "mydf = pd.read_csv(file)"
   ]
  },
  {
   "cell_type": "code",
   "execution_count": 63,
   "metadata": {},
   "outputs": [],
   "source": [
    "files_loc = '/Users/alexandrabarkan/Desktop/Project/SnowflakePipeline'\n",
    "allfiles = glob.glob(files_loc+ \"/*.csv\")"
   ]
  },
  {
   "cell_type": "code",
   "execution_count": 64,
   "metadata": {},
   "outputs": [],
   "source": [
    "conn = snowflake.connector.connect(\n",
    "    user        = 'abarkanetl',\n",
    "    password    = 'Smellybark123',\n",
    "    account     = 'zzb86029.us-east-1',\n",
    "    role        = 'accountadmin'\n",
    "    )"
   ]
  },
  {
   "cell_type": "code",
   "execution_count": 65,
   "metadata": {},
   "outputs": [
    {
     "data": {
      "text/plain": [
       "<snowflake.connector.cursor.SnowflakeCursor at 0x7f78a37e89a0>"
      ]
     },
     "execution_count": 65,
     "metadata": {},
     "output_type": "execute_result"
    }
   ],
   "source": [
    "#CREATE DATABASE CONNECTION\n",
    "snowdb = 'pyetl'\n",
    "conn.cursor().execute('USE DATABASE ' + snowdb)"
   ]
  },
  {
   "cell_type": "code",
   "execution_count": 66,
   "metadata": {},
   "outputs": [
    {
     "data": {
      "text/plain": [
       "<snowflake.connector.cursor.SnowflakeCursor at 0x7f788823bb20>"
      ]
     },
     "execution_count": 66,
     "metadata": {},
     "output_type": "execute_result"
    }
   ],
   "source": [
    "#CREATE SCHEMA\n",
    "snowschema = \"airbnb\"\n",
    "conn.cursor().execute('CREATE SCHEMA IF NOT EXISTS '+ snowschema)\n",
    "conn.cursor().execute('USE SCHEMA ' + snowschema )"
   ]
  },
  {
   "cell_type": "code",
   "execution_count": 69,
   "metadata": {},
   "outputs": [
    {
     "name": "stdout",
     "output_type": "stream",
     "text": [
      "CREATE TABLE IF NOT EXISTS pyetl.airbnb.PREMOVIES\n",
      "(RANK int,\n",
      "MOVIE_ID varchar(),\n",
      "TITLE varchar(),\n",
      "YEAR int,\n",
      "LINK varchar(),\n",
      "IMBD_VOTES varchar(),\n",
      "IMBD_RATING float,\n",
      "CERTIFICATE varchar(),\n",
      "DURATION varchar(),\n",
      "GENRE varchar(),\n",
      "CAST_ID varchar(),\n",
      "CAST_NAME varchar(),\n",
      "DIRECTOR_ID varchar(),\n",
      "DIRECTOR_NAME varchar(),\n",
      "WRITER_ID varchar(),\n",
      "WRITER_NAME varchar(),\n",
      "STORYLINE varchar(),\n",
      "USER_ID varchar(),\n",
      "USER_NAME varchar(),\n",
      "REVIEW_ID varchar(),\n",
      "REVIEW_TITLE varchar(),\n",
      "REVIEW_CONTENT varchar())\n"
     ]
    }
   ],
   "source": [
    "for file in allfiles:\n",
    "    #get file name in UPPER, remove .csv\n",
    "    filename = os.path.splitext(os.path.basename(file))[0].upper()\n",
    "    file_pretable = 'PRE' + filename\n",
    "    #CREATE TABLE SQL\n",
    "    create_table = 'CREATE TABLE IF NOT EXISTS ' + snowdb + '.' + snowschema + '.' + file_pretable + '\\n'+'('\n",
    "    #make df to read in cols from file\n",
    "    df1 = pd.read_csv(file)\n",
    "    #rename cols \n",
    "    df1.rename(columns=str.upper, inplace=True)\n",
    "    #iterate through cols\n",
    "    for col in df1.columns:\n",
    "        column_name = col.upper()\n",
    "        #assign col type\n",
    "        if df1[col].dtype.name == 'int' or df1[col].dtype.name == 'int64':\n",
    "            create_table = create_table + column_name + ' int'\n",
    "        elif df1[col].dtype.name == 'object':\n",
    "            create_table = create_table + column_name + ' varchar()'\n",
    "        elif df1[col].dtype.name == 'datetime64[ns]':\n",
    "            create_table = create_table + column_name + ' datetime'\n",
    "        elif df1[col].dtype.name == 'float64':\n",
    "            create_table = create_table + column_name + ' float'\n",
    "        elif df1[col].dtype.name == 'bool':\n",
    "            create_table = create_table + column_name + ' bool'\n",
    "        else: \n",
    "            create_table = create_table + column_name + \" varchar()\"\n",
    "        #if last col, create table, if not keep iterating\n",
    "        if df1[col].name != df1.columns[-1]:\n",
    "            create_table = create_table + \",\\n\"\n",
    "        else:\n",
    "            create_table = create_table + ')'\n",
    "            print(create_table)\n",
    "            #execute SQL statement\n",
    "            conn.cursor().execute(create_table)\n",
    "    conn.cursor().execute('TRUNCATE TABLE IF EXISTS ' + file_pretable)\n",
    "        \n"
   ]
  },
  {
   "cell_type": "code",
   "execution_count": null,
   "metadata": {},
   "outputs": [],
   "source": []
  },
  {
   "cell_type": "code",
   "execution_count": 26,
   "metadata": {},
   "outputs": [
    {
     "name": "stdout",
     "output_type": "stream",
     "text": [
      "RANK\n",
      "MOVIE_ID\n",
      "TITLE\n",
      "YEAR\n",
      "LINK\n",
      "IMBD_VOTES\n",
      "IMBD_RATING\n",
      "CERTIFICATE\n",
      "DURATION\n",
      "GENRE\n",
      "CAST_ID\n",
      "CAST_NAME\n",
      "DIRECTOR_ID\n",
      "DIRECTOR_NAME\n",
      "WRITER_ID\n",
      "WRITER_NAME\n",
      "STORYLINE\n",
      "USER_ID\n",
      "USER_NAME\n",
      "REVIEW_ID\n",
      "REVIEW_TITLE\n",
      "REVIEW_CONTENT\n"
     ]
    }
   ],
   "source": [
    "for col in mydf.columns:\n",
    "    column_name = col.upper()\n",
    "    print(column_name)\n",
    "    if (mydf[col].dtype.name=='int' or mydf[col].dtype.name=='int64'):\n",
    "        create_tbl_sql = cr\n",
    "\n",
    "    "
   ]
  },
  {
   "cell_type": "code",
   "execution_count": 19,
   "metadata": {},
   "outputs": [
    {
     "ename": "ForbiddenError",
     "evalue": "250001 (08001): Failed to connect to DB. Verify the account name is correct: ZZB86029.snowflakecomputing.com:443. 000403: HTTP 403: Forbidden",
     "output_type": "error",
     "traceback": [
      "\u001b[0;31m---------------------------------------------------------------------------\u001b[0m",
      "\u001b[0;31mRetryRequest\u001b[0m                              Traceback (most recent call last)",
      "File \u001b[0;32m~/Desktop/Project/SnowflakePipeline/env/lib/python3.9/site-packages/snowflake/connector/network.py:857\u001b[0m, in \u001b[0;36mSnowflakeRestful._request_exec_wrapper\u001b[0;34m(self, session, method, full_url, headers, data, retry_ctx, no_retry, token, **kwargs)\u001b[0m\n\u001b[1;32m    856\u001b[0m \u001b[39mtry\u001b[39;00m:\n\u001b[0;32m--> 857\u001b[0m     return_object \u001b[39m=\u001b[39m \u001b[39mself\u001b[39;49m\u001b[39m.\u001b[39;49m_request_exec(\n\u001b[1;32m    858\u001b[0m         session\u001b[39m=\u001b[39;49msession,\n\u001b[1;32m    859\u001b[0m         method\u001b[39m=\u001b[39;49mmethod,\n\u001b[1;32m    860\u001b[0m         full_url\u001b[39m=\u001b[39;49mfull_url,\n\u001b[1;32m    861\u001b[0m         headers\u001b[39m=\u001b[39;49mheaders,\n\u001b[1;32m    862\u001b[0m         data\u001b[39m=\u001b[39;49mdata,\n\u001b[1;32m    863\u001b[0m         token\u001b[39m=\u001b[39;49mtoken,\n\u001b[1;32m    864\u001b[0m         \u001b[39m*\u001b[39;49m\u001b[39m*\u001b[39;49mkwargs,\n\u001b[1;32m    865\u001b[0m     )\n\u001b[1;32m    866\u001b[0m     \u001b[39mif\u001b[39;00m return_object \u001b[39mis\u001b[39;00m \u001b[39mnot\u001b[39;00m \u001b[39mNone\u001b[39;00m:\n",
      "File \u001b[0;32m~/Desktop/Project/SnowflakePipeline/env/lib/python3.9/site-packages/snowflake/connector/network.py:1131\u001b[0m, in \u001b[0;36mSnowflakeRestful._request_exec\u001b[0;34m(self, session, method, full_url, headers, data, token, catch_okta_unauthorized_error, is_raw_text, is_raw_binary, binary_data_handler, socket_timeout)\u001b[0m\n\u001b[1;32m   1122\u001b[0m TelemetryService\u001b[39m.\u001b[39mget_instance()\u001b[39m.\u001b[39mlog_http_request_error(\n\u001b[1;32m   1123\u001b[0m     \u001b[39m\"\u001b[39m\u001b[39mHttpException\u001b[39m\u001b[39m%s\u001b[39;00m\u001b[39m\"\u001b[39m \u001b[39m%\u001b[39m \u001b[39mstr\u001b[39m(err),\n\u001b[1;32m   1124\u001b[0m     full_url,\n\u001b[0;32m   (...)\u001b[0m\n\u001b[1;32m   1129\u001b[0m     stack_trace\u001b[39m=\u001b[39mtraceback\u001b[39m.\u001b[39mformat_exc(),\n\u001b[1;32m   1130\u001b[0m )\n\u001b[0;32m-> 1131\u001b[0m \u001b[39mraise\u001b[39;00m err\n",
      "File \u001b[0;32m~/Desktop/Project/SnowflakePipeline/env/lib/python3.9/site-packages/snowflake/connector/network.py:1062\u001b[0m, in \u001b[0;36mSnowflakeRestful._request_exec\u001b[0;34m(self, session, method, full_url, headers, data, token, catch_okta_unauthorized_error, is_raw_text, is_raw_binary, binary_data_handler, socket_timeout)\u001b[0m\n\u001b[1;32m   1061\u001b[0m     \u001b[39m# retryable server exceptions\u001b[39;00m\n\u001b[0;32m-> 1062\u001b[0m     \u001b[39mraise\u001b[39;00m RetryRequest(error)\n\u001b[1;32m   1064\u001b[0m \u001b[39melif\u001b[39;00m (\n\u001b[1;32m   1065\u001b[0m     raw_ret\u001b[39m.\u001b[39mstatus_code \u001b[39m==\u001b[39m UNAUTHORIZED\n\u001b[1;32m   1066\u001b[0m     \u001b[39mand\u001b[39;00m catch_okta_unauthorized_error\n\u001b[1;32m   1067\u001b[0m ):\n\u001b[1;32m   1068\u001b[0m     \u001b[39m# OKTA Unauthorized errors\u001b[39;00m\n",
      "\u001b[0;31mRetryRequest\u001b[0m: 000403: HTTP 403: Forbidden",
      "\nDuring handling of the above exception, another exception occurred:\n",
      "\u001b[0;31mForbiddenError\u001b[0m                            Traceback (most recent call last)",
      "File \u001b[0;32m~/Desktop/Project/SnowflakePipeline/env/lib/python3.9/site-packages/snowflake/connector/auth/_auth.py:250\u001b[0m, in \u001b[0;36mAuth.authenticate\u001b[0;34m(self, auth_instance, account, user, database, schema, warehouse, role, passcode, passcode_in_password, mfa_callback, password_callback, session_parameters, timeout)\u001b[0m\n\u001b[1;32m    249\u001b[0m \u001b[39mtry\u001b[39;00m:\n\u001b[0;32m--> 250\u001b[0m     ret \u001b[39m=\u001b[39m \u001b[39mself\u001b[39;49m\u001b[39m.\u001b[39;49m_rest\u001b[39m.\u001b[39;49m_post_request(\n\u001b[1;32m    251\u001b[0m         url,\n\u001b[1;32m    252\u001b[0m         headers,\n\u001b[1;32m    253\u001b[0m         json\u001b[39m.\u001b[39;49mdumps(body),\n\u001b[1;32m    254\u001b[0m         timeout\u001b[39m=\u001b[39;49mauth_timeout,\n\u001b[1;32m    255\u001b[0m         socket_timeout\u001b[39m=\u001b[39;49mauth_timeout,\n\u001b[1;32m    256\u001b[0m     )\n\u001b[1;32m    257\u001b[0m \u001b[39mexcept\u001b[39;00m ForbiddenError \u001b[39mas\u001b[39;00m err:\n\u001b[1;32m    258\u001b[0m     \u001b[39m# HTTP 403\u001b[39;00m\n",
      "File \u001b[0;32m~/Desktop/Project/SnowflakePipeline/env/lib/python3.9/site-packages/snowflake/connector/network.py:716\u001b[0m, in \u001b[0;36mSnowflakeRestful._post_request\u001b[0;34m(self, url, headers, body, token, timeout, _no_results, no_retry, socket_timeout, _include_retry_params)\u001b[0m\n\u001b[1;32m    714\u001b[0m     pprint(ret)\n\u001b[0;32m--> 716\u001b[0m ret \u001b[39m=\u001b[39m \u001b[39mself\u001b[39;49m\u001b[39m.\u001b[39;49mfetch(\n\u001b[1;32m    717\u001b[0m     \u001b[39m\"\u001b[39;49m\u001b[39mpost\u001b[39;49m\u001b[39m\"\u001b[39;49m,\n\u001b[1;32m    718\u001b[0m     full_url,\n\u001b[1;32m    719\u001b[0m     headers,\n\u001b[1;32m    720\u001b[0m     data\u001b[39m=\u001b[39;49mbody,\n\u001b[1;32m    721\u001b[0m     timeout\u001b[39m=\u001b[39;49mtimeout,\n\u001b[1;32m    722\u001b[0m     token\u001b[39m=\u001b[39;49mtoken,\n\u001b[1;32m    723\u001b[0m     no_retry\u001b[39m=\u001b[39;49mno_retry,\n\u001b[1;32m    724\u001b[0m     socket_timeout\u001b[39m=\u001b[39;49msocket_timeout,\n\u001b[1;32m    725\u001b[0m     _include_retry_params\u001b[39m=\u001b[39;49m_include_retry_params,\n\u001b[1;32m    726\u001b[0m )\n\u001b[1;32m    727\u001b[0m logger\u001b[39m.\u001b[39mdebug(\n\u001b[1;32m    728\u001b[0m     \u001b[39m\"\u001b[39m\u001b[39mret[code] = \u001b[39m\u001b[39m{code}\u001b[39;00m\u001b[39m, after post request\u001b[39m\u001b[39m\"\u001b[39m\u001b[39m.\u001b[39mformat(\n\u001b[1;32m    729\u001b[0m         code\u001b[39m=\u001b[39m(ret\u001b[39m.\u001b[39mget(\u001b[39m\"\u001b[39m\u001b[39mcode\u001b[39m\u001b[39m\"\u001b[39m, \u001b[39m\"\u001b[39m\u001b[39mN/A\u001b[39m\u001b[39m\"\u001b[39m))\n\u001b[1;32m    730\u001b[0m     )\n\u001b[1;32m    731\u001b[0m )\n",
      "File \u001b[0;32m~/Desktop/Project/SnowflakePipeline/env/lib/python3.9/site-packages/snowflake/connector/network.py:814\u001b[0m, in \u001b[0;36mSnowflakeRestful.fetch\u001b[0;34m(self, method, full_url, headers, data, timeout, **kwargs)\u001b[0m\n\u001b[1;32m    813\u001b[0m \u001b[39mwhile\u001b[39;00m \u001b[39mTrue\u001b[39;00m:\n\u001b[0;32m--> 814\u001b[0m     ret \u001b[39m=\u001b[39m \u001b[39mself\u001b[39;49m\u001b[39m.\u001b[39;49m_request_exec_wrapper(\n\u001b[1;32m    815\u001b[0m         session, method, full_url, headers, data, retry_ctx, \u001b[39m*\u001b[39;49m\u001b[39m*\u001b[39;49mkwargs\n\u001b[1;32m    816\u001b[0m     )\n\u001b[1;32m    817\u001b[0m     \u001b[39mif\u001b[39;00m ret \u001b[39mis\u001b[39;00m \u001b[39mnot\u001b[39;00m \u001b[39mNone\u001b[39;00m:\n",
      "File \u001b[0;32m~/Desktop/Project/SnowflakePipeline/env/lib/python3.9/site-packages/snowflake/connector/network.py:910\u001b[0m, in \u001b[0;36mSnowflakeRestful._request_exec_wrapper\u001b[0;34m(self, session, method, full_url, headers, data, retry_ctx, no_retry, token, **kwargs)\u001b[0m\n\u001b[1;32m    909\u001b[0m \u001b[39mif\u001b[39;00m retry_ctx\u001b[39m.\u001b[39mtimeout \u001b[39m<\u001b[39m\u001b[39m=\u001b[39m \u001b[39m0\u001b[39m:\n\u001b[0;32m--> 910\u001b[0m     \u001b[39mself\u001b[39;49m\u001b[39m.\u001b[39;49mlog_and_handle_http_error_with_cause(\n\u001b[1;32m    911\u001b[0m         e,\n\u001b[1;32m    912\u001b[0m         full_url,\n\u001b[1;32m    913\u001b[0m         method,\n\u001b[1;32m    914\u001b[0m         retry_ctx\u001b[39m.\u001b[39;49mtotal_timeout,\n\u001b[1;32m    915\u001b[0m         retry_ctx\u001b[39m.\u001b[39;49mcnt,\n\u001b[1;32m    916\u001b[0m         conn,\n\u001b[1;32m    917\u001b[0m     )\n\u001b[1;32m    918\u001b[0m     \u001b[39mreturn\u001b[39;00m {}  \u001b[39m# required for tests\u001b[39;00m\n",
      "File \u001b[0;32m~/Desktop/Project/SnowflakePipeline/env/lib/python3.9/site-packages/snowflake/connector/network.py:965\u001b[0m, in \u001b[0;36mSnowflakeRestful.log_and_handle_http_error_with_cause\u001b[0;34m(self, e, full_url, method, retry_timeout, retry_count, conn, timed_out)\u001b[0m\n\u001b[1;32m    964\u001b[0m \u001b[39mif\u001b[39;00m \u001b[39misinstance\u001b[39m(cause, Error):\n\u001b[0;32m--> 965\u001b[0m     Error\u001b[39m.\u001b[39;49merrorhandler_wrapper_from_cause(conn, cause)\n\u001b[1;32m    966\u001b[0m \u001b[39melse\u001b[39;00m:\n",
      "File \u001b[0;32m~/Desktop/Project/SnowflakePipeline/env/lib/python3.9/site-packages/snowflake/connector/errors.py:255\u001b[0m, in \u001b[0;36mError.errorhandler_wrapper_from_cause\u001b[0;34m(connection, cause, cursor)\u001b[0m\n\u001b[1;32m    240\u001b[0m \u001b[39m\u001b[39m\u001b[39m\"\"\"Wrapper for errorhandler_wrapper, it is called with a cause instead of a dictionary.\u001b[39;00m\n\u001b[1;32m    241\u001b[0m \n\u001b[1;32m    242\u001b[0m \u001b[39mThe dictionary is first extracted from the cause and then it's given to errorhandler_wrapper\u001b[39;00m\n\u001b[0;32m   (...)\u001b[0m\n\u001b[1;32m    253\u001b[0m \u001b[39m    A Snowflake error if connection and cursor are None.\u001b[39;00m\n\u001b[1;32m    254\u001b[0m \u001b[39m\"\"\"\u001b[39;00m\n\u001b[0;32m--> 255\u001b[0m \u001b[39mreturn\u001b[39;00m Error\u001b[39m.\u001b[39;49merrorhandler_wrapper(\n\u001b[1;32m    256\u001b[0m     connection,\n\u001b[1;32m    257\u001b[0m     cursor,\n\u001b[1;32m    258\u001b[0m     \u001b[39mtype\u001b[39;49m(cause),\n\u001b[1;32m    259\u001b[0m     {\n\u001b[1;32m    260\u001b[0m         \u001b[39m\"\u001b[39;49m\u001b[39mmsg\u001b[39;49m\u001b[39m\"\u001b[39;49m: cause\u001b[39m.\u001b[39;49mmsg,\n\u001b[1;32m    261\u001b[0m         \u001b[39m\"\u001b[39;49m\u001b[39merrno\u001b[39;49m\u001b[39m\"\u001b[39;49m: cause\u001b[39m.\u001b[39;49merrno,\n\u001b[1;32m    262\u001b[0m         \u001b[39m\"\u001b[39;49m\u001b[39msqlstate\u001b[39;49m\u001b[39m\"\u001b[39;49m: cause\u001b[39m.\u001b[39;49msqlstate,\n\u001b[1;32m    263\u001b[0m         \u001b[39m\"\u001b[39;49m\u001b[39mdone_format_msg\u001b[39;49m\u001b[39m\"\u001b[39;49m: \u001b[39mTrue\u001b[39;49;00m,\n\u001b[1;32m    264\u001b[0m     },\n\u001b[1;32m    265\u001b[0m )\n",
      "File \u001b[0;32m~/Desktop/Project/SnowflakePipeline/env/lib/python3.9/site-packages/snowflake/connector/errors.py:290\u001b[0m, in \u001b[0;36mError.errorhandler_wrapper\u001b[0;34m(connection, cursor, error_class, error_value)\u001b[0m\n\u001b[1;32m    274\u001b[0m \u001b[39m\u001b[39m\u001b[39m\"\"\"Error handler wrapper that calls the errorhandler method.\u001b[39;00m\n\u001b[1;32m    275\u001b[0m \n\u001b[1;32m    276\u001b[0m \u001b[39mArgs:\u001b[39;00m\n\u001b[0;32m   (...)\u001b[0m\n\u001b[1;32m    287\u001b[0m \u001b[39m    exception to the first handler in that order.\u001b[39;00m\n\u001b[1;32m    288\u001b[0m \u001b[39m\"\"\"\u001b[39;00m\n\u001b[0;32m--> 290\u001b[0m handed_over \u001b[39m=\u001b[39m Error\u001b[39m.\u001b[39;49mhand_to_other_handler(\n\u001b[1;32m    291\u001b[0m     connection,\n\u001b[1;32m    292\u001b[0m     cursor,\n\u001b[1;32m    293\u001b[0m     error_class,\n\u001b[1;32m    294\u001b[0m     error_value,\n\u001b[1;32m    295\u001b[0m )\n\u001b[1;32m    296\u001b[0m \u001b[39mif\u001b[39;00m \u001b[39mnot\u001b[39;00m handed_over:\n",
      "File \u001b[0;32m~/Desktop/Project/SnowflakePipeline/env/lib/python3.9/site-packages/snowflake/connector/errors.py:348\u001b[0m, in \u001b[0;36mError.hand_to_other_handler\u001b[0;34m(connection, cursor, error_class, error_value)\u001b[0m\n\u001b[1;32m    347\u001b[0m \u001b[39melif\u001b[39;00m connection \u001b[39mis\u001b[39;00m \u001b[39mnot\u001b[39;00m \u001b[39mNone\u001b[39;00m:\n\u001b[0;32m--> 348\u001b[0m     connection\u001b[39m.\u001b[39;49merrorhandler(connection, cursor, error_class, error_value)\n\u001b[1;32m    349\u001b[0m     \u001b[39mreturn\u001b[39;00m \u001b[39mTrue\u001b[39;00m\n",
      "File \u001b[0;32m~/Desktop/Project/SnowflakePipeline/env/lib/python3.9/site-packages/snowflake/connector/errors.py:221\u001b[0m, in \u001b[0;36mError.default_errorhandler\u001b[0;34m(connection, cursor, error_class, error_value)\u001b[0m\n\u001b[1;32m    220\u001b[0m done_format_msg \u001b[39m=\u001b[39m error_value\u001b[39m.\u001b[39mget(\u001b[39m\"\u001b[39m\u001b[39mdone_format_msg\u001b[39m\u001b[39m\"\u001b[39m)\n\u001b[0;32m--> 221\u001b[0m \u001b[39mraise\u001b[39;00m error_class(\n\u001b[1;32m    222\u001b[0m     msg\u001b[39m=\u001b[39merror_value\u001b[39m.\u001b[39mget(\u001b[39m\"\u001b[39m\u001b[39mmsg\u001b[39m\u001b[39m\"\u001b[39m),\n\u001b[1;32m    223\u001b[0m     errno\u001b[39m=\u001b[39m\u001b[39mNone\u001b[39;00m \u001b[39mif\u001b[39;00m errno \u001b[39mis\u001b[39;00m \u001b[39mNone\u001b[39;00m \u001b[39melse\u001b[39;00m \u001b[39mint\u001b[39m(errno),\n\u001b[1;32m    224\u001b[0m     sqlstate\u001b[39m=\u001b[39merror_value\u001b[39m.\u001b[39mget(\u001b[39m\"\u001b[39m\u001b[39msqlstate\u001b[39m\u001b[39m\"\u001b[39m),\n\u001b[1;32m    225\u001b[0m     sfqid\u001b[39m=\u001b[39merror_value\u001b[39m.\u001b[39mget(\u001b[39m\"\u001b[39m\u001b[39msfqid\u001b[39m\u001b[39m\"\u001b[39m),\n\u001b[1;32m    226\u001b[0m     query\u001b[39m=\u001b[39merror_value\u001b[39m.\u001b[39mget(\u001b[39m\"\u001b[39m\u001b[39mquery\u001b[39m\u001b[39m\"\u001b[39m),\n\u001b[1;32m    227\u001b[0m     done_format_msg\u001b[39m=\u001b[39m(\n\u001b[1;32m    228\u001b[0m         \u001b[39mNone\u001b[39;00m \u001b[39mif\u001b[39;00m done_format_msg \u001b[39mis\u001b[39;00m \u001b[39mNone\u001b[39;00m \u001b[39melse\u001b[39;00m \u001b[39mbool\u001b[39m(done_format_msg)\n\u001b[1;32m    229\u001b[0m     ),\n\u001b[1;32m    230\u001b[0m     connection\u001b[39m=\u001b[39mconnection,\n\u001b[1;32m    231\u001b[0m     cursor\u001b[39m=\u001b[39mcursor,\n\u001b[1;32m    232\u001b[0m )\n",
      "\u001b[0;31mForbiddenError\u001b[0m: 000403: HTTP 403: Forbidden",
      "\nDuring handling of the above exception, another exception occurred:\n",
      "\u001b[0;31mForbiddenError\u001b[0m                            Traceback (most recent call last)",
      "Cell \u001b[0;32mIn[19], line 2\u001b[0m\n\u001b[1;32m      1\u001b[0m snowflake\u001b[39m.\u001b[39mconnector\u001b[39m.\u001b[39mparamstyle\u001b[39m=\u001b[39m\u001b[39m'\u001b[39m\u001b[39mqmark\u001b[39m\u001b[39m'\u001b[39m\n\u001b[0;32m----> 2\u001b[0m ctx \u001b[39m=\u001b[39m snowflake\u001b[39m.\u001b[39;49mconnector\u001b[39m.\u001b[39;49mconnect(\n\u001b[1;32m      3\u001b[0m user\u001b[39m=\u001b[39;49m\u001b[39m'\u001b[39;49m\u001b[39mabarkanetl\u001b[39;49m\u001b[39m'\u001b[39;49m,\n\u001b[1;32m      4\u001b[0m password\u001b[39m=\u001b[39;49m\u001b[39m'\u001b[39;49m\u001b[39mSmellybark123\u001b[39;49m\u001b[39m'\u001b[39;49m,\n\u001b[1;32m      5\u001b[0m account\u001b[39m=\u001b[39;49m\u001b[39m'\u001b[39;49m\u001b[39mZZB86029\u001b[39;49m\u001b[39m'\u001b[39;49m\n\u001b[1;32m      6\u001b[0m )\n",
      "File \u001b[0;32m~/Desktop/Project/SnowflakePipeline/env/lib/python3.9/site-packages/snowflake/connector/__init__.py:51\u001b[0m, in \u001b[0;36mConnect\u001b[0;34m(**kwargs)\u001b[0m\n\u001b[1;32m     50\u001b[0m \u001b[39mdef\u001b[39;00m \u001b[39mConnect\u001b[39m(\u001b[39m*\u001b[39m\u001b[39m*\u001b[39mkwargs) \u001b[39m-\u001b[39m\u001b[39m>\u001b[39m SnowflakeConnection:\n\u001b[0;32m---> 51\u001b[0m     \u001b[39mreturn\u001b[39;00m SnowflakeConnection(\u001b[39m*\u001b[39;49m\u001b[39m*\u001b[39;49mkwargs)\n",
      "File \u001b[0;32m~/Desktop/Project/SnowflakePipeline/env/lib/python3.9/site-packages/snowflake/connector/connection.py:304\u001b[0m, in \u001b[0;36mSnowflakeConnection.__init__\u001b[0;34m(self, **kwargs)\u001b[0m\n\u001b[1;32m    302\u001b[0m \u001b[39mself\u001b[39m\u001b[39m.\u001b[39mconverter \u001b[39m=\u001b[39m \u001b[39mNone\u001b[39;00m\n\u001b[1;32m    303\u001b[0m \u001b[39mself\u001b[39m\u001b[39m.\u001b[39m__set_error_attributes()\n\u001b[0;32m--> 304\u001b[0m \u001b[39mself\u001b[39;49m\u001b[39m.\u001b[39;49mconnect(\u001b[39m*\u001b[39;49m\u001b[39m*\u001b[39;49mkwargs)\n\u001b[1;32m    305\u001b[0m \u001b[39mself\u001b[39m\u001b[39m.\u001b[39m_telemetry \u001b[39m=\u001b[39m TelemetryClient(\u001b[39mself\u001b[39m\u001b[39m.\u001b[39m_rest)\n\u001b[1;32m    307\u001b[0m \u001b[39m# get the imported modules from sys.modules\u001b[39;00m\n",
      "File \u001b[0;32m~/Desktop/Project/SnowflakePipeline/env/lib/python3.9/site-packages/snowflake/connector/connection.py:571\u001b[0m, in \u001b[0;36mSnowflakeConnection.connect\u001b[0;34m(self, **kwargs)\u001b[0m\n\u001b[1;32m    569\u001b[0m         connection_diag\u001b[39m.\u001b[39mgenerate_report()\n\u001b[1;32m    570\u001b[0m \u001b[39melse\u001b[39;00m:\n\u001b[0;32m--> 571\u001b[0m     \u001b[39mself\u001b[39;49m\u001b[39m.\u001b[39;49m__open_connection()\n",
      "File \u001b[0;32m~/Desktop/Project/SnowflakePipeline/env/lib/python3.9/site-packages/snowflake/connector/connection.py:839\u001b[0m, in \u001b[0;36mSnowflakeConnection.__open_connection\u001b[0;34m(self)\u001b[0m\n\u001b[1;32m    835\u001b[0m \u001b[39melse\u001b[39;00m:\n\u001b[1;32m    836\u001b[0m     \u001b[39m# okta URL, e.g., https://<account>.okta.com/\u001b[39;00m\n\u001b[1;32m    837\u001b[0m     \u001b[39mself\u001b[39m\u001b[39m.\u001b[39mauth_class \u001b[39m=\u001b[39m AuthByOkta(application\u001b[39m=\u001b[39m\u001b[39mself\u001b[39m\u001b[39m.\u001b[39mapplication)\n\u001b[0;32m--> 839\u001b[0m \u001b[39mself\u001b[39;49m\u001b[39m.\u001b[39;49mauthenticate_with_retry(\u001b[39mself\u001b[39;49m\u001b[39m.\u001b[39;49mauth_class)\n\u001b[1;32m    841\u001b[0m \u001b[39mself\u001b[39m\u001b[39m.\u001b[39m_password \u001b[39m=\u001b[39m \u001b[39mNone\u001b[39;00m  \u001b[39m# ensure password won't persist\u001b[39;00m\n\u001b[1;32m    842\u001b[0m \u001b[39mself\u001b[39m\u001b[39m.\u001b[39mauth_class\u001b[39m.\u001b[39mreset_secrets()\n",
      "File \u001b[0;32m~/Desktop/Project/SnowflakePipeline/env/lib/python3.9/site-packages/snowflake/connector/connection.py:1099\u001b[0m, in \u001b[0;36mSnowflakeConnection.authenticate_with_retry\u001b[0;34m(self, auth_instance)\u001b[0m\n\u001b[1;32m   1096\u001b[0m \u001b[39mdef\u001b[39;00m \u001b[39mauthenticate_with_retry\u001b[39m(\u001b[39mself\u001b[39m, auth_instance) \u001b[39m-\u001b[39m\u001b[39m>\u001b[39m \u001b[39mNone\u001b[39;00m:\n\u001b[1;32m   1097\u001b[0m     \u001b[39m# make some changes if needed before real __authenticate\u001b[39;00m\n\u001b[1;32m   1098\u001b[0m     \u001b[39mtry\u001b[39;00m:\n\u001b[0;32m-> 1099\u001b[0m         \u001b[39mself\u001b[39;49m\u001b[39m.\u001b[39;49m_authenticate(auth_instance)\n\u001b[1;32m   1100\u001b[0m     \u001b[39mexcept\u001b[39;00m ReauthenticationRequest \u001b[39mas\u001b[39;00m ex:\n\u001b[1;32m   1101\u001b[0m         \u001b[39m# cached id_token expiration error, we have cleaned id_token and try to authenticate again\u001b[39;00m\n\u001b[1;32m   1102\u001b[0m         logger\u001b[39m.\u001b[39mdebug(\u001b[39m\"\u001b[39m\u001b[39mID token expired. Reauthenticating...: \u001b[39m\u001b[39m%s\u001b[39;00m\u001b[39m\"\u001b[39m, ex)\n",
      "File \u001b[0;32m~/Desktop/Project/SnowflakePipeline/env/lib/python3.9/site-packages/snowflake/connector/connection.py:1125\u001b[0m, in \u001b[0;36mSnowflakeConnection._authenticate\u001b[0;34m(self, auth_instance)\u001b[0m\n\u001b[1;32m   1123\u001b[0m auth \u001b[39m=\u001b[39m Auth(\u001b[39mself\u001b[39m\u001b[39m.\u001b[39mrest)\n\u001b[1;32m   1124\u001b[0m \u001b[39mtry\u001b[39;00m:\n\u001b[0;32m-> 1125\u001b[0m     auth\u001b[39m.\u001b[39;49mauthenticate(\n\u001b[1;32m   1126\u001b[0m         auth_instance\u001b[39m=\u001b[39;49mauth_instance,\n\u001b[1;32m   1127\u001b[0m         account\u001b[39m=\u001b[39;49m\u001b[39mself\u001b[39;49m\u001b[39m.\u001b[39;49maccount,\n\u001b[1;32m   1128\u001b[0m         user\u001b[39m=\u001b[39;49m\u001b[39mself\u001b[39;49m\u001b[39m.\u001b[39;49muser,\n\u001b[1;32m   1129\u001b[0m         database\u001b[39m=\u001b[39;49m\u001b[39mself\u001b[39;49m\u001b[39m.\u001b[39;49mdatabase,\n\u001b[1;32m   1130\u001b[0m         schema\u001b[39m=\u001b[39;49m\u001b[39mself\u001b[39;49m\u001b[39m.\u001b[39;49mschema,\n\u001b[1;32m   1131\u001b[0m         warehouse\u001b[39m=\u001b[39;49m\u001b[39mself\u001b[39;49m\u001b[39m.\u001b[39;49mwarehouse,\n\u001b[1;32m   1132\u001b[0m         role\u001b[39m=\u001b[39;49m\u001b[39mself\u001b[39;49m\u001b[39m.\u001b[39;49mrole,\n\u001b[1;32m   1133\u001b[0m         passcode\u001b[39m=\u001b[39;49m\u001b[39mself\u001b[39;49m\u001b[39m.\u001b[39;49m_passcode,\n\u001b[1;32m   1134\u001b[0m         passcode_in_password\u001b[39m=\u001b[39;49m\u001b[39mself\u001b[39;49m\u001b[39m.\u001b[39;49m_passcode_in_password,\n\u001b[1;32m   1135\u001b[0m         mfa_callback\u001b[39m=\u001b[39;49m\u001b[39mself\u001b[39;49m\u001b[39m.\u001b[39;49m_mfa_callback,\n\u001b[1;32m   1136\u001b[0m         password_callback\u001b[39m=\u001b[39;49m\u001b[39mself\u001b[39;49m\u001b[39m.\u001b[39;49m_password_callback,\n\u001b[1;32m   1137\u001b[0m         session_parameters\u001b[39m=\u001b[39;49m\u001b[39mself\u001b[39;49m\u001b[39m.\u001b[39;49m_session_parameters,\n\u001b[1;32m   1138\u001b[0m     )\n\u001b[1;32m   1139\u001b[0m \u001b[39mexcept\u001b[39;00m OperationalError \u001b[39mas\u001b[39;00m e:\n\u001b[1;32m   1140\u001b[0m     logger\u001b[39m.\u001b[39mdebug(\n\u001b[1;32m   1141\u001b[0m         \u001b[39m\"\u001b[39m\u001b[39mOperational Error raised at authentication\u001b[39m\u001b[39m\"\u001b[39m\n\u001b[1;32m   1142\u001b[0m         \u001b[39mf\u001b[39m\u001b[39m\"\u001b[39m\u001b[39mfor authenticator: \u001b[39m\u001b[39m{\u001b[39;00m\u001b[39mtype\u001b[39m(auth_instance)\u001b[39m.\u001b[39m\u001b[39m__name__\u001b[39m\u001b[39m}\u001b[39;00m\u001b[39m\"\u001b[39m\n\u001b[1;32m   1143\u001b[0m     )\n",
      "File \u001b[0;32m~/Desktop/Project/SnowflakePipeline/env/lib/python3.9/site-packages/snowflake/connector/auth/_auth.py:259\u001b[0m, in \u001b[0;36mAuth.authenticate\u001b[0;34m(self, auth_instance, account, user, database, schema, warehouse, role, passcode, passcode_in_password, mfa_callback, password_callback, session_parameters, timeout)\u001b[0m\n\u001b[1;32m    250\u001b[0m     ret \u001b[39m=\u001b[39m \u001b[39mself\u001b[39m\u001b[39m.\u001b[39m_rest\u001b[39m.\u001b[39m_post_request(\n\u001b[1;32m    251\u001b[0m         url,\n\u001b[1;32m    252\u001b[0m         headers,\n\u001b[0;32m   (...)\u001b[0m\n\u001b[1;32m    255\u001b[0m         socket_timeout\u001b[39m=\u001b[39mauth_timeout,\n\u001b[1;32m    256\u001b[0m     )\n\u001b[1;32m    257\u001b[0m \u001b[39mexcept\u001b[39;00m ForbiddenError \u001b[39mas\u001b[39;00m err:\n\u001b[1;32m    258\u001b[0m     \u001b[39m# HTTP 403\u001b[39;00m\n\u001b[0;32m--> 259\u001b[0m     \u001b[39mraise\u001b[39;00m err\u001b[39m.\u001b[39m\u001b[39m__class__\u001b[39m(\n\u001b[1;32m    260\u001b[0m         msg\u001b[39m=\u001b[39m(\n\u001b[1;32m    261\u001b[0m             \u001b[39m\"\u001b[39m\u001b[39mFailed to connect to DB. \u001b[39m\u001b[39m\"\u001b[39m\n\u001b[1;32m    262\u001b[0m             \u001b[39m\"\u001b[39m\u001b[39mVerify the account name is correct: \u001b[39m\u001b[39m{host}\u001b[39;00m\u001b[39m:\u001b[39m\u001b[39m{port}\u001b[39;00m\u001b[39m. \u001b[39m\u001b[39m\"\u001b[39m\n\u001b[1;32m    263\u001b[0m             \u001b[39m\"\u001b[39m\u001b[39m{message}\u001b[39;00m\u001b[39m\"\u001b[39m\n\u001b[1;32m    264\u001b[0m         )\u001b[39m.\u001b[39mformat(\n\u001b[1;32m    265\u001b[0m             host\u001b[39m=\u001b[39m\u001b[39mself\u001b[39m\u001b[39m.\u001b[39m_rest\u001b[39m.\u001b[39m_host, port\u001b[39m=\u001b[39m\u001b[39mself\u001b[39m\u001b[39m.\u001b[39m_rest\u001b[39m.\u001b[39m_port, message\u001b[39m=\u001b[39m\u001b[39mstr\u001b[39m(err)\n\u001b[1;32m    266\u001b[0m         ),\n\u001b[1;32m    267\u001b[0m         errno\u001b[39m=\u001b[39mER_FAILED_TO_CONNECT_TO_DB,\n\u001b[1;32m    268\u001b[0m         sqlstate\u001b[39m=\u001b[39mSQLSTATE_CONNECTION_WAS_NOT_ESTABLISHED,\n\u001b[1;32m    269\u001b[0m     )\n\u001b[1;32m    270\u001b[0m \u001b[39mexcept\u001b[39;00m (ServiceUnavailableError, BadGatewayError) \u001b[39mas\u001b[39;00m err:\n\u001b[1;32m    271\u001b[0m     \u001b[39m# HTTP 502/504\u001b[39;00m\n\u001b[1;32m    272\u001b[0m     \u001b[39mraise\u001b[39;00m err\u001b[39m.\u001b[39m\u001b[39m__class__\u001b[39m(\n\u001b[1;32m    273\u001b[0m         msg\u001b[39m=\u001b[39m(\n\u001b[1;32m    274\u001b[0m             \u001b[39m\"\u001b[39m\u001b[39mFailed to connect to DB. \u001b[39m\u001b[39m\"\u001b[39m\n\u001b[0;32m   (...)\u001b[0m\n\u001b[1;32m    281\u001b[0m         sqlstate\u001b[39m=\u001b[39mSQLSTATE_CONNECTION_WAS_NOT_ESTABLISHED,\n\u001b[1;32m    282\u001b[0m     )\n",
      "\u001b[0;31mForbiddenError\u001b[0m: 250001 (08001): Failed to connect to DB. Verify the account name is correct: ZZB86029.snowflakecomputing.com:443. 000403: HTTP 403: Forbidden"
     ]
    }
   ],
   "source": [
    "snowflake.connector.paramstyle='qmark'\n",
    "ctx = snowflake.connector.connect(\n",
    "user='abarkanetl',\n",
    "password='Smellybark123',\n",
    "account='ZZB86029'\n",
    ")"
   ]
  },
  {
   "cell_type": "code",
   "execution_count": null,
   "metadata": {},
   "outputs": [],
   "source": [
    "cs = ctx.cursor()\n",
    "cs.execute(\" DELETE FROM schema.python_import; \")\n",
    "for row in df.to_records(index=False):\n",
    "cs.execute(\" Insert Into schema.python_import (model , item , price)\"\n",
    "    \"VALUES (?, ? , ?) \", (str(row[0]),str(row[1]),str(row[2])) )\n",
    "print(\"uploaded\")"
   ]
  },
  {
   "cell_type": "code",
   "execution_count": 15,
   "metadata": {},
   "outputs": [
    {
     "name": "stdout",
     "output_type": "stream",
     "text": [
      "Unexpected exception formatting exception. Falling back to standard exception\n"
     ]
    },
    {
     "name": "stderr",
     "output_type": "stream",
     "text": [
      "Traceback (most recent call last):\n",
      "  File \"/Users/alexandrabarkan/Desktop/Project/SnowflakePipeline/env/lib/python3.9/site-packages/IPython/core/interactiveshell.py\", line 3508, in run_code\n",
      "    exec(code_obj, self.user_global_ns, self.user_ns)\n",
      "  File \"/var/folders/43/2c2b2f9j0pbf6zgcgt8h6z6c0000gn/T/ipykernel_627/1220293944.py\", line 1, in <module>\n",
      "    engine1 = create_engine(URL.create('https://pswmizs-yvb29577.snowflakecomputing.com',\n",
      "  File \"<string>\", line 2, in create_engine\n",
      "  File \"/Users/alexandrabarkan/Desktop/Project/SnowflakePipeline/env/lib/python3.9/site-packages/sqlalchemy/util/deprecations.py\", line 283, in warned\n",
      "    )\n",
      "  File \"/Users/alexandrabarkan/Desktop/Project/SnowflakePipeline/env/lib/python3.9/site-packages/sqlalchemy/engine/create.py\", line 552, in create_engine\n",
      "  File \"/Users/alexandrabarkan/Desktop/Project/SnowflakePipeline/env/lib/python3.9/site-packages/sqlalchemy/engine/url.py\", line 754, in _get_entrypoint\n",
      "    (?P<ipv4host>[^/:\\?]+)\n",
      "  File \"/Users/alexandrabarkan/Desktop/Project/SnowflakePipeline/env/lib/python3.9/site-packages/sqlalchemy/util/langhelpers.py\", line 358, in load\n",
      "    try:\n",
      "  File \"/Users/alexandrabarkan/Desktop/Project/SnowflakePipeline/env/lib/python3.9/site-packages/sqlalchemy/dialects/__init__.py\", line 31, in _auto_fn\n",
      "    else:\n",
      "ValueError: too many values to unpack (expected 2)\n",
      "\n",
      "During handling of the above exception, another exception occurred:\n",
      "\n",
      "Traceback (most recent call last):\n",
      "  File \"/Users/alexandrabarkan/Desktop/Project/SnowflakePipeline/env/lib/python3.9/site-packages/IPython/core/interactiveshell.py\", line 2105, in showtraceback\n",
      "    stb = self.InteractiveTB.structured_traceback(\n",
      "  File \"/Users/alexandrabarkan/Desktop/Project/SnowflakePipeline/env/lib/python3.9/site-packages/IPython/core/ultratb.py\", line 1396, in structured_traceback\n",
      "    return FormattedTB.structured_traceback(\n",
      "  File \"/Users/alexandrabarkan/Desktop/Project/SnowflakePipeline/env/lib/python3.9/site-packages/IPython/core/ultratb.py\", line 1287, in structured_traceback\n",
      "    return VerboseTB.structured_traceback(\n",
      "  File \"/Users/alexandrabarkan/Desktop/Project/SnowflakePipeline/env/lib/python3.9/site-packages/IPython/core/ultratb.py\", line 1140, in structured_traceback\n",
      "    formatted_exception = self.format_exception_as_a_whole(etype, evalue, etb, number_of_lines_of_context,\n",
      "  File \"/Users/alexandrabarkan/Desktop/Project/SnowflakePipeline/env/lib/python3.9/site-packages/IPython/core/ultratb.py\", line 1055, in format_exception_as_a_whole\n",
      "    frames.append(self.format_record(record))\n",
      "  File \"/Users/alexandrabarkan/Desktop/Project/SnowflakePipeline/env/lib/python3.9/site-packages/IPython/core/ultratb.py\", line 955, in format_record\n",
      "    frame_info.lines, Colors, self.has_colors, lvals\n",
      "  File \"/Users/alexandrabarkan/Desktop/Project/SnowflakePipeline/env/lib/python3.9/site-packages/IPython/core/ultratb.py\", line 778, in lines\n",
      "    return self._sd.lines\n",
      "  File \"/Users/alexandrabarkan/Desktop/Project/SnowflakePipeline/env/lib/python3.9/site-packages/stack_data/utils.py\", line 144, in cached_property_wrapper\n",
      "    value = obj.__dict__[self.func.__name__] = self.func(obj)\n",
      "  File \"/Users/alexandrabarkan/Desktop/Project/SnowflakePipeline/env/lib/python3.9/site-packages/stack_data/core.py\", line 734, in lines\n",
      "    pieces = self.included_pieces\n",
      "  File \"/Users/alexandrabarkan/Desktop/Project/SnowflakePipeline/env/lib/python3.9/site-packages/stack_data/utils.py\", line 144, in cached_property_wrapper\n",
      "    value = obj.__dict__[self.func.__name__] = self.func(obj)\n",
      "  File \"/Users/alexandrabarkan/Desktop/Project/SnowflakePipeline/env/lib/python3.9/site-packages/stack_data/core.py\", line 681, in included_pieces\n",
      "    pos = scope_pieces.index(self.executing_piece)\n",
      "  File \"/Users/alexandrabarkan/Desktop/Project/SnowflakePipeline/env/lib/python3.9/site-packages/stack_data/utils.py\", line 144, in cached_property_wrapper\n",
      "    value = obj.__dict__[self.func.__name__] = self.func(obj)\n",
      "  File \"/Users/alexandrabarkan/Desktop/Project/SnowflakePipeline/env/lib/python3.9/site-packages/stack_data/core.py\", line 660, in executing_piece\n",
      "    return only(\n",
      "  File \"/Users/alexandrabarkan/Desktop/Project/SnowflakePipeline/env/lib/python3.9/site-packages/executing/executing.py\", line 190, in only\n",
      "    raise NotOneValueFound('Expected one value, found 0')\n",
      "executing.executing.NotOneValueFound: Expected one value, found 0\n"
     ]
    }
   ],
   "source": [
    "engine1 = create_engine(URL.create('https://pswmizs-yvb29577.snowflakecomputing.com',\n",
    "                                    username='ABARKANETL',\n",
    "                                    password='Smellybark123',\n",
    "                                    database='pyetl'))"
   ]
  },
  {
   "cell_type": "code",
   "execution_count": null,
   "metadata": {},
   "outputs": [],
   "source": [
    "df = pd.rea"
   ]
  },
  {
   "cell_type": "code",
   "execution_count": 16,
   "metadata": {},
   "outputs": [
    {
     "ename": "OperationalError",
     "evalue": "250001: Could not connect to Snowflake backend after 0 attempt(s).Aborting",
     "output_type": "error",
     "traceback": [
      "\u001b[0;31m---------------------------------------------------------------------------\u001b[0m",
      "\u001b[0;31mgaierror\u001b[0m                                  Traceback (most recent call last)",
      "File \u001b[0;32m~/Desktop/Project/SnowflakePipeline/env/lib/python3.9/site-packages/snowflake/connector/vendored/urllib3/connection.py:174\u001b[0m, in \u001b[0;36mHTTPConnection._new_conn\u001b[0;34m(self)\u001b[0m\n\u001b[1;32m    173\u001b[0m \u001b[39mtry\u001b[39;00m:\n\u001b[0;32m--> 174\u001b[0m     conn \u001b[39m=\u001b[39m connection\u001b[39m.\u001b[39;49mcreate_connection(\n\u001b[1;32m    175\u001b[0m         (\u001b[39mself\u001b[39;49m\u001b[39m.\u001b[39;49m_dns_host, \u001b[39mself\u001b[39;49m\u001b[39m.\u001b[39;49mport), \u001b[39mself\u001b[39;49m\u001b[39m.\u001b[39;49mtimeout, \u001b[39m*\u001b[39;49m\u001b[39m*\u001b[39;49mextra_kw\n\u001b[1;32m    176\u001b[0m     )\n\u001b[1;32m    178\u001b[0m \u001b[39mexcept\u001b[39;00m SocketTimeout:\n",
      "File \u001b[0;32m~/Desktop/Project/SnowflakePipeline/env/lib/python3.9/site-packages/snowflake/connector/vendored/urllib3/util/connection.py:72\u001b[0m, in \u001b[0;36mcreate_connection\u001b[0;34m(address, timeout, source_address, socket_options)\u001b[0m\n\u001b[1;32m     68\u001b[0m     \u001b[39mreturn\u001b[39;00m six\u001b[39m.\u001b[39mraise_from(\n\u001b[1;32m     69\u001b[0m         LocationParseError(\u001b[39mu\u001b[39m\u001b[39m\"\u001b[39m\u001b[39m'\u001b[39m\u001b[39m%s\u001b[39;00m\u001b[39m'\u001b[39m\u001b[39m, label empty or too long\u001b[39m\u001b[39m\"\u001b[39m \u001b[39m%\u001b[39m host), \u001b[39mNone\u001b[39;00m\n\u001b[1;32m     70\u001b[0m     )\n\u001b[0;32m---> 72\u001b[0m \u001b[39mfor\u001b[39;00m res \u001b[39min\u001b[39;00m socket\u001b[39m.\u001b[39;49mgetaddrinfo(host, port, family, socket\u001b[39m.\u001b[39;49mSOCK_STREAM):\n\u001b[1;32m     73\u001b[0m     af, socktype, proto, canonname, sa \u001b[39m=\u001b[39m res\n",
      "File \u001b[0;32m/Library/Frameworks/Python.framework/Versions/3.9/lib/python3.9/socket.py:953\u001b[0m, in \u001b[0;36mgetaddrinfo\u001b[0;34m(host, port, family, type, proto, flags)\u001b[0m\n\u001b[1;32m    952\u001b[0m addrlist \u001b[39m=\u001b[39m []\n\u001b[0;32m--> 953\u001b[0m \u001b[39mfor\u001b[39;00m res \u001b[39min\u001b[39;00m _socket\u001b[39m.\u001b[39;49mgetaddrinfo(host, port, family, \u001b[39mtype\u001b[39;49m, proto, flags):\n\u001b[1;32m    954\u001b[0m     af, socktype, proto, canonname, sa \u001b[39m=\u001b[39m res\n",
      "\u001b[0;31mgaierror\u001b[0m: [Errno 8] nodename nor servname provided, or not known",
      "\nDuring handling of the above exception, another exception occurred:\n",
      "\u001b[0;31mNewConnectionError\u001b[0m                        Traceback (most recent call last)",
      "File \u001b[0;32m~/Desktop/Project/SnowflakePipeline/env/lib/python3.9/site-packages/snowflake/connector/vendored/urllib3/connectionpool.py:703\u001b[0m, in \u001b[0;36mHTTPConnectionPool.urlopen\u001b[0;34m(self, method, url, body, headers, retries, redirect, assert_same_host, timeout, pool_timeout, release_conn, chunked, body_pos, **response_kw)\u001b[0m\n\u001b[1;32m    702\u001b[0m \u001b[39m# Make the request on the httplib connection object.\u001b[39;00m\n\u001b[0;32m--> 703\u001b[0m httplib_response \u001b[39m=\u001b[39m \u001b[39mself\u001b[39;49m\u001b[39m.\u001b[39;49m_make_request(\n\u001b[1;32m    704\u001b[0m     conn,\n\u001b[1;32m    705\u001b[0m     method,\n\u001b[1;32m    706\u001b[0m     url,\n\u001b[1;32m    707\u001b[0m     timeout\u001b[39m=\u001b[39;49mtimeout_obj,\n\u001b[1;32m    708\u001b[0m     body\u001b[39m=\u001b[39;49mbody,\n\u001b[1;32m    709\u001b[0m     headers\u001b[39m=\u001b[39;49mheaders,\n\u001b[1;32m    710\u001b[0m     chunked\u001b[39m=\u001b[39;49mchunked,\n\u001b[1;32m    711\u001b[0m )\n\u001b[1;32m    713\u001b[0m \u001b[39m# If we're going to release the connection in ``finally:``, then\u001b[39;00m\n\u001b[1;32m    714\u001b[0m \u001b[39m# the response doesn't need to know about the connection. Otherwise\u001b[39;00m\n\u001b[1;32m    715\u001b[0m \u001b[39m# it will also try to release it and we'll have a double-release\u001b[39;00m\n\u001b[1;32m    716\u001b[0m \u001b[39m# mess.\u001b[39;00m\n",
      "File \u001b[0;32m~/Desktop/Project/SnowflakePipeline/env/lib/python3.9/site-packages/snowflake/connector/vendored/urllib3/connectionpool.py:386\u001b[0m, in \u001b[0;36mHTTPConnectionPool._make_request\u001b[0;34m(self, conn, method, url, timeout, chunked, **httplib_request_kw)\u001b[0m\n\u001b[1;32m    385\u001b[0m \u001b[39mtry\u001b[39;00m:\n\u001b[0;32m--> 386\u001b[0m     \u001b[39mself\u001b[39;49m\u001b[39m.\u001b[39;49m_validate_conn(conn)\n\u001b[1;32m    387\u001b[0m \u001b[39mexcept\u001b[39;00m (SocketTimeout, BaseSSLError) \u001b[39mas\u001b[39;00m e:\n\u001b[1;32m    388\u001b[0m     \u001b[39m# Py2 raises this as a BaseSSLError, Py3 raises it as socket timeout.\u001b[39;00m\n",
      "File \u001b[0;32m~/Desktop/Project/SnowflakePipeline/env/lib/python3.9/site-packages/snowflake/connector/vendored/urllib3/connectionpool.py:1042\u001b[0m, in \u001b[0;36mHTTPSConnectionPool._validate_conn\u001b[0;34m(self, conn)\u001b[0m\n\u001b[1;32m   1041\u001b[0m \u001b[39mif\u001b[39;00m \u001b[39mnot\u001b[39;00m \u001b[39mgetattr\u001b[39m(conn, \u001b[39m\"\u001b[39m\u001b[39msock\u001b[39m\u001b[39m\"\u001b[39m, \u001b[39mNone\u001b[39;00m):  \u001b[39m# AppEngine might not have  `.sock`\u001b[39;00m\n\u001b[0;32m-> 1042\u001b[0m     conn\u001b[39m.\u001b[39;49mconnect()\n\u001b[1;32m   1044\u001b[0m \u001b[39mif\u001b[39;00m \u001b[39mnot\u001b[39;00m conn\u001b[39m.\u001b[39mis_verified:\n",
      "File \u001b[0;32m~/Desktop/Project/SnowflakePipeline/env/lib/python3.9/site-packages/snowflake/connector/vendored/urllib3/connection.py:358\u001b[0m, in \u001b[0;36mHTTPSConnection.connect\u001b[0;34m(self)\u001b[0m\n\u001b[1;32m    356\u001b[0m \u001b[39mdef\u001b[39;00m \u001b[39mconnect\u001b[39m(\u001b[39mself\u001b[39m):\n\u001b[1;32m    357\u001b[0m     \u001b[39m# Add certificate verification\u001b[39;00m\n\u001b[0;32m--> 358\u001b[0m     \u001b[39mself\u001b[39m\u001b[39m.\u001b[39msock \u001b[39m=\u001b[39m conn \u001b[39m=\u001b[39m \u001b[39mself\u001b[39;49m\u001b[39m.\u001b[39;49m_new_conn()\n\u001b[1;32m    359\u001b[0m     hostname \u001b[39m=\u001b[39m \u001b[39mself\u001b[39m\u001b[39m.\u001b[39mhost\n",
      "File \u001b[0;32m~/Desktop/Project/SnowflakePipeline/env/lib/python3.9/site-packages/snowflake/connector/vendored/urllib3/connection.py:186\u001b[0m, in \u001b[0;36mHTTPConnection._new_conn\u001b[0;34m(self)\u001b[0m\n\u001b[1;32m    185\u001b[0m \u001b[39mexcept\u001b[39;00m SocketError \u001b[39mas\u001b[39;00m e:\n\u001b[0;32m--> 186\u001b[0m     \u001b[39mraise\u001b[39;00m NewConnectionError(\n\u001b[1;32m    187\u001b[0m         \u001b[39mself\u001b[39m, \u001b[39m\"\u001b[39m\u001b[39mFailed to establish a new connection: \u001b[39m\u001b[39m%s\u001b[39;00m\u001b[39m\"\u001b[39m \u001b[39m%\u001b[39m e\n\u001b[1;32m    188\u001b[0m     )\n\u001b[1;32m    190\u001b[0m \u001b[39mreturn\u001b[39;00m conn\n",
      "\u001b[0;31mNewConnectionError\u001b[0m: <snowflake.connector.vendored.urllib3.connection.HTTPSConnection object at 0x7f78a0379370>: Failed to establish a new connection: [Errno 8] nodename nor servname provided, or not known",
      "\nDuring handling of the above exception, another exception occurred:\n",
      "\u001b[0;31mMaxRetryError\u001b[0m                             Traceback (most recent call last)",
      "File \u001b[0;32m~/Desktop/Project/SnowflakePipeline/env/lib/python3.9/site-packages/snowflake/connector/vendored/requests/adapters.py:489\u001b[0m, in \u001b[0;36mHTTPAdapter.send\u001b[0;34m(self, request, stream, timeout, verify, cert, proxies)\u001b[0m\n\u001b[1;32m    488\u001b[0m \u001b[39mif\u001b[39;00m \u001b[39mnot\u001b[39;00m chunked:\n\u001b[0;32m--> 489\u001b[0m     resp \u001b[39m=\u001b[39m conn\u001b[39m.\u001b[39;49murlopen(\n\u001b[1;32m    490\u001b[0m         method\u001b[39m=\u001b[39;49mrequest\u001b[39m.\u001b[39;49mmethod,\n\u001b[1;32m    491\u001b[0m         url\u001b[39m=\u001b[39;49murl,\n\u001b[1;32m    492\u001b[0m         body\u001b[39m=\u001b[39;49mrequest\u001b[39m.\u001b[39;49mbody,\n\u001b[1;32m    493\u001b[0m         headers\u001b[39m=\u001b[39;49mrequest\u001b[39m.\u001b[39;49mheaders,\n\u001b[1;32m    494\u001b[0m         redirect\u001b[39m=\u001b[39;49m\u001b[39mFalse\u001b[39;49;00m,\n\u001b[1;32m    495\u001b[0m         assert_same_host\u001b[39m=\u001b[39;49m\u001b[39mFalse\u001b[39;49;00m,\n\u001b[1;32m    496\u001b[0m         preload_content\u001b[39m=\u001b[39;49m\u001b[39mFalse\u001b[39;49;00m,\n\u001b[1;32m    497\u001b[0m         decode_content\u001b[39m=\u001b[39;49m\u001b[39mFalse\u001b[39;49;00m,\n\u001b[1;32m    498\u001b[0m         retries\u001b[39m=\u001b[39;49m\u001b[39mself\u001b[39;49m\u001b[39m.\u001b[39;49mmax_retries,\n\u001b[1;32m    499\u001b[0m         timeout\u001b[39m=\u001b[39;49mtimeout,\n\u001b[1;32m    500\u001b[0m     )\n\u001b[1;32m    502\u001b[0m \u001b[39m# Send the request.\u001b[39;00m\n\u001b[1;32m    503\u001b[0m \u001b[39melse\u001b[39;00m:\n",
      "File \u001b[0;32m~/Desktop/Project/SnowflakePipeline/env/lib/python3.9/site-packages/snowflake/connector/vendored/urllib3/connectionpool.py:815\u001b[0m, in \u001b[0;36mHTTPConnectionPool.urlopen\u001b[0;34m(self, method, url, body, headers, retries, redirect, assert_same_host, timeout, pool_timeout, release_conn, chunked, body_pos, **response_kw)\u001b[0m\n\u001b[1;32m    812\u001b[0m     log\u001b[39m.\u001b[39mwarning(\n\u001b[1;32m    813\u001b[0m         \u001b[39m\"\u001b[39m\u001b[39mRetrying (\u001b[39m\u001b[39m%r\u001b[39;00m\u001b[39m) after connection broken by \u001b[39m\u001b[39m'\u001b[39m\u001b[39m%r\u001b[39;00m\u001b[39m'\u001b[39m\u001b[39m: \u001b[39m\u001b[39m%s\u001b[39;00m\u001b[39m\"\u001b[39m, retries, err, url\n\u001b[1;32m    814\u001b[0m     )\n\u001b[0;32m--> 815\u001b[0m     \u001b[39mreturn\u001b[39;00m \u001b[39mself\u001b[39;49m\u001b[39m.\u001b[39;49murlopen(\n\u001b[1;32m    816\u001b[0m         method,\n\u001b[1;32m    817\u001b[0m         url,\n\u001b[1;32m    818\u001b[0m         body,\n\u001b[1;32m    819\u001b[0m         headers,\n\u001b[1;32m    820\u001b[0m         retries,\n\u001b[1;32m    821\u001b[0m         redirect,\n\u001b[1;32m    822\u001b[0m         assert_same_host,\n\u001b[1;32m    823\u001b[0m         timeout\u001b[39m=\u001b[39;49mtimeout,\n\u001b[1;32m    824\u001b[0m         pool_timeout\u001b[39m=\u001b[39;49mpool_timeout,\n\u001b[1;32m    825\u001b[0m         release_conn\u001b[39m=\u001b[39;49mrelease_conn,\n\u001b[1;32m    826\u001b[0m         chunked\u001b[39m=\u001b[39;49mchunked,\n\u001b[1;32m    827\u001b[0m         body_pos\u001b[39m=\u001b[39;49mbody_pos,\n\u001b[1;32m    828\u001b[0m         \u001b[39m*\u001b[39;49m\u001b[39m*\u001b[39;49mresponse_kw\n\u001b[1;32m    829\u001b[0m     )\n\u001b[1;32m    831\u001b[0m \u001b[39m# Handle redirect?\u001b[39;00m\n",
      "File \u001b[0;32m~/Desktop/Project/SnowflakePipeline/env/lib/python3.9/site-packages/snowflake/connector/vendored/urllib3/connectionpool.py:787\u001b[0m, in \u001b[0;36mHTTPConnectionPool.urlopen\u001b[0;34m(self, method, url, body, headers, retries, redirect, assert_same_host, timeout, pool_timeout, release_conn, chunked, body_pos, **response_kw)\u001b[0m\n\u001b[1;32m    785\u001b[0m     e \u001b[39m=\u001b[39m ProtocolError(\u001b[39m\"\u001b[39m\u001b[39mConnection aborted.\u001b[39m\u001b[39m\"\u001b[39m, e)\n\u001b[0;32m--> 787\u001b[0m retries \u001b[39m=\u001b[39m retries\u001b[39m.\u001b[39;49mincrement(\n\u001b[1;32m    788\u001b[0m     method, url, error\u001b[39m=\u001b[39;49me, _pool\u001b[39m=\u001b[39;49m\u001b[39mself\u001b[39;49m, _stacktrace\u001b[39m=\u001b[39;49msys\u001b[39m.\u001b[39;49mexc_info()[\u001b[39m2\u001b[39;49m]\n\u001b[1;32m    789\u001b[0m )\n\u001b[1;32m    790\u001b[0m retries\u001b[39m.\u001b[39msleep()\n",
      "File \u001b[0;32m~/Desktop/Project/SnowflakePipeline/env/lib/python3.9/site-packages/snowflake/connector/vendored/urllib3/util/retry.py:592\u001b[0m, in \u001b[0;36mRetry.increment\u001b[0;34m(self, method, url, response, error, _pool, _stacktrace)\u001b[0m\n\u001b[1;32m    591\u001b[0m \u001b[39mif\u001b[39;00m new_retry\u001b[39m.\u001b[39mis_exhausted():\n\u001b[0;32m--> 592\u001b[0m     \u001b[39mraise\u001b[39;00m MaxRetryError(_pool, url, error \u001b[39mor\u001b[39;00m ResponseError(cause))\n\u001b[1;32m    594\u001b[0m log\u001b[39m.\u001b[39mdebug(\u001b[39m\"\u001b[39m\u001b[39mIncremented Retry for (url=\u001b[39m\u001b[39m'\u001b[39m\u001b[39m%s\u001b[39;00m\u001b[39m'\u001b[39m\u001b[39m): \u001b[39m\u001b[39m%r\u001b[39;00m\u001b[39m\"\u001b[39m, url, new_retry)\n",
      "\u001b[0;31mMaxRetryError\u001b[0m: HTTPSConnectionPool(host='https', port=443): Max retries exceeded with url: //pswmizs-yvb29577.us-east-l.snowflakecomputing.com:443/session/v1/login-request?request_id=77678f29-2dd3-403e-97da-c130b1e63191&databaseName=pyetl&schemaName=airbnb&warehouse=pyetl (Caused by NewConnectionError('<snowflake.connector.vendored.urllib3.connection.HTTPSConnection object at 0x7f78a0379370>: Failed to establish a new connection: [Errno 8] nodename nor servname provided, or not known'))",
      "\nDuring handling of the above exception, another exception occurred:\n",
      "\u001b[0;31mConnectionError\u001b[0m                           Traceback (most recent call last)",
      "File \u001b[0;32m~/Desktop/Project/SnowflakePipeline/env/lib/python3.9/site-packages/snowflake/connector/network.py:1033\u001b[0m, in \u001b[0;36mSnowflakeRestful._request_exec\u001b[0;34m(self, session, method, full_url, headers, data, token, catch_okta_unauthorized_error, is_raw_text, is_raw_binary, binary_data_handler, socket_timeout)\u001b[0m\n\u001b[1;32m   1030\u001b[0m \u001b[39m# socket timeout is constant. You should be able to receive\u001b[39;00m\n\u001b[1;32m   1031\u001b[0m \u001b[39m# the response within the time. If not, ConnectReadTimeout or\u001b[39;00m\n\u001b[1;32m   1032\u001b[0m \u001b[39m# ReadTimeout is raised.\u001b[39;00m\n\u001b[0;32m-> 1033\u001b[0m raw_ret \u001b[39m=\u001b[39m session\u001b[39m.\u001b[39;49mrequest(\n\u001b[1;32m   1034\u001b[0m     method\u001b[39m=\u001b[39;49mmethod,\n\u001b[1;32m   1035\u001b[0m     url\u001b[39m=\u001b[39;49mfull_url,\n\u001b[1;32m   1036\u001b[0m     headers\u001b[39m=\u001b[39;49mheaders,\n\u001b[1;32m   1037\u001b[0m     data\u001b[39m=\u001b[39;49minput_data,\n\u001b[1;32m   1038\u001b[0m     timeout\u001b[39m=\u001b[39;49msocket_timeout,\n\u001b[1;32m   1039\u001b[0m     verify\u001b[39m=\u001b[39;49m\u001b[39mTrue\u001b[39;49;00m,\n\u001b[1;32m   1040\u001b[0m     stream\u001b[39m=\u001b[39;49mis_raw_binary,\n\u001b[1;32m   1041\u001b[0m     auth\u001b[39m=\u001b[39;49mSnowflakeAuth(token),\n\u001b[1;32m   1042\u001b[0m )\n\u001b[1;32m   1043\u001b[0m download_end_time \u001b[39m=\u001b[39m get_time_millis()\n",
      "File \u001b[0;32m~/Desktop/Project/SnowflakePipeline/env/lib/python3.9/site-packages/snowflake/connector/vendored/requests/sessions.py:587\u001b[0m, in \u001b[0;36mSession.request\u001b[0;34m(self, method, url, params, data, headers, cookies, files, auth, timeout, allow_redirects, proxies, hooks, stream, verify, cert, json)\u001b[0m\n\u001b[1;32m    586\u001b[0m send_kwargs\u001b[39m.\u001b[39mupdate(settings)\n\u001b[0;32m--> 587\u001b[0m resp \u001b[39m=\u001b[39m \u001b[39mself\u001b[39;49m\u001b[39m.\u001b[39;49msend(prep, \u001b[39m*\u001b[39;49m\u001b[39m*\u001b[39;49msend_kwargs)\n\u001b[1;32m    589\u001b[0m \u001b[39mreturn\u001b[39;00m resp\n",
      "File \u001b[0;32m~/Desktop/Project/SnowflakePipeline/env/lib/python3.9/site-packages/snowflake/connector/vendored/requests/sessions.py:701\u001b[0m, in \u001b[0;36mSession.send\u001b[0;34m(self, request, **kwargs)\u001b[0m\n\u001b[1;32m    700\u001b[0m \u001b[39m# Send the request\u001b[39;00m\n\u001b[0;32m--> 701\u001b[0m r \u001b[39m=\u001b[39m adapter\u001b[39m.\u001b[39;49msend(request, \u001b[39m*\u001b[39;49m\u001b[39m*\u001b[39;49mkwargs)\n\u001b[1;32m    703\u001b[0m \u001b[39m# Total elapsed time of the request (approximately)\u001b[39;00m\n",
      "File \u001b[0;32m~/Desktop/Project/SnowflakePipeline/env/lib/python3.9/site-packages/snowflake/connector/vendored/requests/adapters.py:565\u001b[0m, in \u001b[0;36mHTTPAdapter.send\u001b[0;34m(self, request, stream, timeout, verify, cert, proxies)\u001b[0m\n\u001b[1;32m    563\u001b[0m         \u001b[39mraise\u001b[39;00m SSLError(e, request\u001b[39m=\u001b[39mrequest)\n\u001b[0;32m--> 565\u001b[0m     \u001b[39mraise\u001b[39;00m \u001b[39mConnectionError\u001b[39;00m(e, request\u001b[39m=\u001b[39mrequest)\n\u001b[1;32m    567\u001b[0m \u001b[39mexcept\u001b[39;00m ClosedPoolError \u001b[39mas\u001b[39;00m e:\n",
      "\u001b[0;31mConnectionError\u001b[0m: HTTPSConnectionPool(host='https', port=443): Max retries exceeded with url: //pswmizs-yvb29577.us-east-l.snowflakecomputing.com:443/session/v1/login-request?request_id=77678f29-2dd3-403e-97da-c130b1e63191&databaseName=pyetl&schemaName=airbnb&warehouse=pyetl (Caused by NewConnectionError('<snowflake.connector.vendored.urllib3.connection.HTTPSConnection object at 0x7f78a0379370>: Failed to establish a new connection: [Errno 8] nodename nor servname provided, or not known'))",
      "\nDuring handling of the above exception, another exception occurred:\n",
      "\u001b[0;31mOperationalError\u001b[0m                          Traceback (most recent call last)",
      "File \u001b[0;32m~/Desktop/Project/SnowflakePipeline/env/lib/python3.9/site-packages/snowflake/connector/connection.py:1125\u001b[0m, in \u001b[0;36mSnowflakeConnection._authenticate\u001b[0;34m(self, auth_instance)\u001b[0m\n\u001b[1;32m   1124\u001b[0m \u001b[39mtry\u001b[39;00m:\n\u001b[0;32m-> 1125\u001b[0m     auth\u001b[39m.\u001b[39;49mauthenticate(\n\u001b[1;32m   1126\u001b[0m         auth_instance\u001b[39m=\u001b[39;49mauth_instance,\n\u001b[1;32m   1127\u001b[0m         account\u001b[39m=\u001b[39;49m\u001b[39mself\u001b[39;49m\u001b[39m.\u001b[39;49maccount,\n\u001b[1;32m   1128\u001b[0m         user\u001b[39m=\u001b[39;49m\u001b[39mself\u001b[39;49m\u001b[39m.\u001b[39;49muser,\n\u001b[1;32m   1129\u001b[0m         database\u001b[39m=\u001b[39;49m\u001b[39mself\u001b[39;49m\u001b[39m.\u001b[39;49mdatabase,\n\u001b[1;32m   1130\u001b[0m         schema\u001b[39m=\u001b[39;49m\u001b[39mself\u001b[39;49m\u001b[39m.\u001b[39;49mschema,\n\u001b[1;32m   1131\u001b[0m         warehouse\u001b[39m=\u001b[39;49m\u001b[39mself\u001b[39;49m\u001b[39m.\u001b[39;49mwarehouse,\n\u001b[1;32m   1132\u001b[0m         role\u001b[39m=\u001b[39;49m\u001b[39mself\u001b[39;49m\u001b[39m.\u001b[39;49mrole,\n\u001b[1;32m   1133\u001b[0m         passcode\u001b[39m=\u001b[39;49m\u001b[39mself\u001b[39;49m\u001b[39m.\u001b[39;49m_passcode,\n\u001b[1;32m   1134\u001b[0m         passcode_in_password\u001b[39m=\u001b[39;49m\u001b[39mself\u001b[39;49m\u001b[39m.\u001b[39;49m_passcode_in_password,\n\u001b[1;32m   1135\u001b[0m         mfa_callback\u001b[39m=\u001b[39;49m\u001b[39mself\u001b[39;49m\u001b[39m.\u001b[39;49m_mfa_callback,\n\u001b[1;32m   1136\u001b[0m         password_callback\u001b[39m=\u001b[39;49m\u001b[39mself\u001b[39;49m\u001b[39m.\u001b[39;49m_password_callback,\n\u001b[1;32m   1137\u001b[0m         session_parameters\u001b[39m=\u001b[39;49m\u001b[39mself\u001b[39;49m\u001b[39m.\u001b[39;49m_session_parameters,\n\u001b[1;32m   1138\u001b[0m     )\n\u001b[1;32m   1139\u001b[0m \u001b[39mexcept\u001b[39;00m OperationalError \u001b[39mas\u001b[39;00m e:\n",
      "File \u001b[0;32m~/Desktop/Project/SnowflakePipeline/env/lib/python3.9/site-packages/snowflake/connector/auth/_auth.py:250\u001b[0m, in \u001b[0;36mAuth.authenticate\u001b[0;34m(self, auth_instance, account, user, database, schema, warehouse, role, passcode, passcode_in_password, mfa_callback, password_callback, session_parameters, timeout)\u001b[0m\n\u001b[1;32m    249\u001b[0m \u001b[39mtry\u001b[39;00m:\n\u001b[0;32m--> 250\u001b[0m     ret \u001b[39m=\u001b[39m \u001b[39mself\u001b[39;49m\u001b[39m.\u001b[39;49m_rest\u001b[39m.\u001b[39;49m_post_request(\n\u001b[1;32m    251\u001b[0m         url,\n\u001b[1;32m    252\u001b[0m         headers,\n\u001b[1;32m    253\u001b[0m         json\u001b[39m.\u001b[39;49mdumps(body),\n\u001b[1;32m    254\u001b[0m         timeout\u001b[39m=\u001b[39;49mauth_timeout,\n\u001b[1;32m    255\u001b[0m         socket_timeout\u001b[39m=\u001b[39;49mauth_timeout,\n\u001b[1;32m    256\u001b[0m     )\n\u001b[1;32m    257\u001b[0m \u001b[39mexcept\u001b[39;00m ForbiddenError \u001b[39mas\u001b[39;00m err:\n\u001b[1;32m    258\u001b[0m     \u001b[39m# HTTP 403\u001b[39;00m\n",
      "File \u001b[0;32m~/Desktop/Project/SnowflakePipeline/env/lib/python3.9/site-packages/snowflake/connector/network.py:716\u001b[0m, in \u001b[0;36mSnowflakeRestful._post_request\u001b[0;34m(self, url, headers, body, token, timeout, _no_results, no_retry, socket_timeout, _include_retry_params)\u001b[0m\n\u001b[1;32m    714\u001b[0m     pprint(ret)\n\u001b[0;32m--> 716\u001b[0m ret \u001b[39m=\u001b[39m \u001b[39mself\u001b[39;49m\u001b[39m.\u001b[39;49mfetch(\n\u001b[1;32m    717\u001b[0m     \u001b[39m\"\u001b[39;49m\u001b[39mpost\u001b[39;49m\u001b[39m\"\u001b[39;49m,\n\u001b[1;32m    718\u001b[0m     full_url,\n\u001b[1;32m    719\u001b[0m     headers,\n\u001b[1;32m    720\u001b[0m     data\u001b[39m=\u001b[39;49mbody,\n\u001b[1;32m    721\u001b[0m     timeout\u001b[39m=\u001b[39;49mtimeout,\n\u001b[1;32m    722\u001b[0m     token\u001b[39m=\u001b[39;49mtoken,\n\u001b[1;32m    723\u001b[0m     no_retry\u001b[39m=\u001b[39;49mno_retry,\n\u001b[1;32m    724\u001b[0m     socket_timeout\u001b[39m=\u001b[39;49msocket_timeout,\n\u001b[1;32m    725\u001b[0m     _include_retry_params\u001b[39m=\u001b[39;49m_include_retry_params,\n\u001b[1;32m    726\u001b[0m )\n\u001b[1;32m    727\u001b[0m logger\u001b[39m.\u001b[39mdebug(\n\u001b[1;32m    728\u001b[0m     \u001b[39m\"\u001b[39m\u001b[39mret[code] = \u001b[39m\u001b[39m{code}\u001b[39;00m\u001b[39m, after post request\u001b[39m\u001b[39m\"\u001b[39m\u001b[39m.\u001b[39mformat(\n\u001b[1;32m    729\u001b[0m         code\u001b[39m=\u001b[39m(ret\u001b[39m.\u001b[39mget(\u001b[39m\"\u001b[39m\u001b[39mcode\u001b[39m\u001b[39m\"\u001b[39m, \u001b[39m\"\u001b[39m\u001b[39mN/A\u001b[39m\u001b[39m\"\u001b[39m))\n\u001b[1;32m    730\u001b[0m     )\n\u001b[1;32m    731\u001b[0m )\n",
      "File \u001b[0;32m~/Desktop/Project/SnowflakePipeline/env/lib/python3.9/site-packages/snowflake/connector/network.py:814\u001b[0m, in \u001b[0;36mSnowflakeRestful.fetch\u001b[0;34m(self, method, full_url, headers, data, timeout, **kwargs)\u001b[0m\n\u001b[1;32m    813\u001b[0m \u001b[39mwhile\u001b[39;00m \u001b[39mTrue\u001b[39;00m:\n\u001b[0;32m--> 814\u001b[0m     ret \u001b[39m=\u001b[39m \u001b[39mself\u001b[39;49m\u001b[39m.\u001b[39;49m_request_exec_wrapper(\n\u001b[1;32m    815\u001b[0m         session, method, full_url, headers, data, retry_ctx, \u001b[39m*\u001b[39;49m\u001b[39m*\u001b[39;49mkwargs\n\u001b[1;32m    816\u001b[0m     )\n\u001b[1;32m    817\u001b[0m     \u001b[39mif\u001b[39;00m ret \u001b[39mis\u001b[39;00m \u001b[39mnot\u001b[39;00m \u001b[39mNone\u001b[39;00m:\n",
      "File \u001b[0;32m~/Desktop/Project/SnowflakePipeline/env/lib/python3.9/site-packages/snowflake/connector/network.py:937\u001b[0m, in \u001b[0;36mSnowflakeRestful._request_exec_wrapper\u001b[0;34m(self, session, method, full_url, headers, data, retry_ctx, no_retry, token, **kwargs)\u001b[0m\n\u001b[1;32m    936\u001b[0m \u001b[39mif\u001b[39;00m \u001b[39mnot\u001b[39;00m no_retry:\n\u001b[0;32m--> 937\u001b[0m     \u001b[39mraise\u001b[39;00m e\n\u001b[1;32m    938\u001b[0m logger\u001b[39m.\u001b[39mdebug(\u001b[39m\"\u001b[39m\u001b[39mIgnored error\u001b[39m\u001b[39m\"\u001b[39m, exc_info\u001b[39m=\u001b[39m\u001b[39mTrue\u001b[39;00m)\n",
      "File \u001b[0;32m~/Desktop/Project/SnowflakePipeline/env/lib/python3.9/site-packages/snowflake/connector/network.py:857\u001b[0m, in \u001b[0;36mSnowflakeRestful._request_exec_wrapper\u001b[0;34m(self, session, method, full_url, headers, data, retry_ctx, no_retry, token, **kwargs)\u001b[0m\n\u001b[1;32m    856\u001b[0m \u001b[39mtry\u001b[39;00m:\n\u001b[0;32m--> 857\u001b[0m     return_object \u001b[39m=\u001b[39m \u001b[39mself\u001b[39;49m\u001b[39m.\u001b[39;49m_request_exec(\n\u001b[1;32m    858\u001b[0m         session\u001b[39m=\u001b[39;49msession,\n\u001b[1;32m    859\u001b[0m         method\u001b[39m=\u001b[39;49mmethod,\n\u001b[1;32m    860\u001b[0m         full_url\u001b[39m=\u001b[39;49mfull_url,\n\u001b[1;32m    861\u001b[0m         headers\u001b[39m=\u001b[39;49mheaders,\n\u001b[1;32m    862\u001b[0m         data\u001b[39m=\u001b[39;49mdata,\n\u001b[1;32m    863\u001b[0m         token\u001b[39m=\u001b[39;49mtoken,\n\u001b[1;32m    864\u001b[0m         \u001b[39m*\u001b[39;49m\u001b[39m*\u001b[39;49mkwargs,\n\u001b[1;32m    865\u001b[0m     )\n\u001b[1;32m    866\u001b[0m     \u001b[39mif\u001b[39;00m return_object \u001b[39mis\u001b[39;00m \u001b[39mnot\u001b[39;00m \u001b[39mNone\u001b[39;00m:\n",
      "File \u001b[0;32m~/Desktop/Project/SnowflakePipeline/env/lib/python3.9/site-packages/snowflake/connector/network.py:1110\u001b[0m, in \u001b[0;36mSnowflakeRestful._request_exec\u001b[0;34m(self, session, method, full_url, headers, data, token, catch_okta_unauthorized_error, is_raw_text, is_raw_binary, binary_data_handler, socket_timeout)\u001b[0m\n\u001b[1;32m   1105\u001b[0m     logger\u001b[39m.\u001b[39mdebug(\n\u001b[1;32m   1106\u001b[0m         \u001b[39m\"\u001b[39m\u001b[39mHit a timeout error while logging in. Will be handled by \u001b[39m\u001b[39m\"\u001b[39m\n\u001b[1;32m   1107\u001b[0m         \u001b[39mf\u001b[39m\u001b[39m\"\u001b[39m\u001b[39mauthenticator. Ignore the following. Error stack: \u001b[39m\u001b[39m{\u001b[39;00merr\u001b[39m}\u001b[39;00m\u001b[39m\"\u001b[39m,\n\u001b[1;32m   1108\u001b[0m         exc_info\u001b[39m=\u001b[39m\u001b[39mTrue\u001b[39;00m,\n\u001b[1;32m   1109\u001b[0m     )\n\u001b[0;32m-> 1110\u001b[0m     \u001b[39mraise\u001b[39;00m OperationalError(\n\u001b[1;32m   1111\u001b[0m         msg\u001b[39m=\u001b[39m\u001b[39m\"\u001b[39m\u001b[39mConnectionTimeout occurred. Will be handled by authenticator\u001b[39m\u001b[39m\"\u001b[39m,\n\u001b[1;32m   1112\u001b[0m         errno\u001b[39m=\u001b[39mER_CONNECTION_TIMEOUT,\n\u001b[1;32m   1113\u001b[0m     )\n\u001b[1;32m   1114\u001b[0m \u001b[39melse\u001b[39;00m:\n",
      "\u001b[0;31mOperationalError\u001b[0m: 251011: ConnectionTimeout occurred. Will be handled by authenticator",
      "\nThe above exception was the direct cause of the following exception:\n",
      "\u001b[0;31mOperationalError\u001b[0m                          Traceback (most recent call last)",
      "Cell \u001b[0;32mIn[16], line 1\u001b[0m\n\u001b[0;32m----> 1\u001b[0m con_def \u001b[39m=\u001b[39m snowflake\u001b[39m.\u001b[39;49mconnector\u001b[39m.\u001b[39;49mconnect(user\u001b[39m=\u001b[39;49m\u001b[39m'\u001b[39;49m\u001b[39mABARKANETL\u001b[39;49m\u001b[39m'\u001b[39;49m,\n\u001b[1;32m      2\u001b[0m                                      account\u001b[39m=\u001b[39;49m\u001b[39m'\u001b[39;49m\u001b[39mhttps://pswmizs-yvb29577.snowflakecomputing.com\u001b[39;49m\u001b[39m'\u001b[39;49m,\n\u001b[1;32m      3\u001b[0m                                      region \u001b[39m=\u001b[39;49m \u001b[39m'\u001b[39;49m\u001b[39mus-east-l\u001b[39;49m\u001b[39m'\u001b[39;49m,\n\u001b[1;32m      4\u001b[0m                                      password \u001b[39m=\u001b[39;49m\u001b[39m'\u001b[39;49m\u001b[39mSmellybark123\u001b[39;49m\u001b[39m'\u001b[39;49m,\n\u001b[1;32m      5\u001b[0m                                      database\u001b[39m=\u001b[39;49m\u001b[39m'\u001b[39;49m\u001b[39mpyetl\u001b[39;49m\u001b[39m'\u001b[39;49m,      \n\u001b[1;32m      6\u001b[0m                                      warehouse\u001b[39m=\u001b[39;49m\u001b[39m'\u001b[39;49m\u001b[39mpyetl\u001b[39;49m\u001b[39m'\u001b[39;49m,  \n\u001b[1;32m      7\u001b[0m                                      schema \u001b[39m=\u001b[39;49m\u001b[39m'\u001b[39;49m\u001b[39mairbnb\u001b[39;49m\u001b[39m'\u001b[39;49m,\n\u001b[1;32m      8\u001b[0m                                      autocommit\u001b[39m=\u001b[39;49m\u001b[39mTrue\u001b[39;49;00m)         \n\u001b[1;32m     10\u001b[0m db_cursor_def \u001b[39m=\u001b[39m con_def\u001b[39m.\u001b[39mcursor()\n",
      "File \u001b[0;32m~/Desktop/Project/SnowflakePipeline/env/lib/python3.9/site-packages/snowflake/connector/__init__.py:51\u001b[0m, in \u001b[0;36mConnect\u001b[0;34m(**kwargs)\u001b[0m\n\u001b[1;32m     50\u001b[0m \u001b[39mdef\u001b[39;00m \u001b[39mConnect\u001b[39m(\u001b[39m*\u001b[39m\u001b[39m*\u001b[39mkwargs) \u001b[39m-\u001b[39m\u001b[39m>\u001b[39m SnowflakeConnection:\n\u001b[0;32m---> 51\u001b[0m     \u001b[39mreturn\u001b[39;00m SnowflakeConnection(\u001b[39m*\u001b[39;49m\u001b[39m*\u001b[39;49mkwargs)\n",
      "File \u001b[0;32m~/Desktop/Project/SnowflakePipeline/env/lib/python3.9/site-packages/snowflake/connector/connection.py:304\u001b[0m, in \u001b[0;36mSnowflakeConnection.__init__\u001b[0;34m(self, **kwargs)\u001b[0m\n\u001b[1;32m    302\u001b[0m \u001b[39mself\u001b[39m\u001b[39m.\u001b[39mconverter \u001b[39m=\u001b[39m \u001b[39mNone\u001b[39;00m\n\u001b[1;32m    303\u001b[0m \u001b[39mself\u001b[39m\u001b[39m.\u001b[39m__set_error_attributes()\n\u001b[0;32m--> 304\u001b[0m \u001b[39mself\u001b[39;49m\u001b[39m.\u001b[39;49mconnect(\u001b[39m*\u001b[39;49m\u001b[39m*\u001b[39;49mkwargs)\n\u001b[1;32m    305\u001b[0m \u001b[39mself\u001b[39m\u001b[39m.\u001b[39m_telemetry \u001b[39m=\u001b[39m TelemetryClient(\u001b[39mself\u001b[39m\u001b[39m.\u001b[39m_rest)\n\u001b[1;32m    307\u001b[0m \u001b[39m# get the imported modules from sys.modules\u001b[39;00m\n",
      "File \u001b[0;32m~/Desktop/Project/SnowflakePipeline/env/lib/python3.9/site-packages/snowflake/connector/connection.py:571\u001b[0m, in \u001b[0;36mSnowflakeConnection.connect\u001b[0;34m(self, **kwargs)\u001b[0m\n\u001b[1;32m    569\u001b[0m         connection_diag\u001b[39m.\u001b[39mgenerate_report()\n\u001b[1;32m    570\u001b[0m \u001b[39melse\u001b[39;00m:\n\u001b[0;32m--> 571\u001b[0m     \u001b[39mself\u001b[39;49m\u001b[39m.\u001b[39;49m__open_connection()\n",
      "File \u001b[0;32m~/Desktop/Project/SnowflakePipeline/env/lib/python3.9/site-packages/snowflake/connector/connection.py:839\u001b[0m, in \u001b[0;36mSnowflakeConnection.__open_connection\u001b[0;34m(self)\u001b[0m\n\u001b[1;32m    835\u001b[0m \u001b[39melse\u001b[39;00m:\n\u001b[1;32m    836\u001b[0m     \u001b[39m# okta URL, e.g., https://<account>.okta.com/\u001b[39;00m\n\u001b[1;32m    837\u001b[0m     \u001b[39mself\u001b[39m\u001b[39m.\u001b[39mauth_class \u001b[39m=\u001b[39m AuthByOkta(application\u001b[39m=\u001b[39m\u001b[39mself\u001b[39m\u001b[39m.\u001b[39mapplication)\n\u001b[0;32m--> 839\u001b[0m \u001b[39mself\u001b[39;49m\u001b[39m.\u001b[39;49mauthenticate_with_retry(\u001b[39mself\u001b[39;49m\u001b[39m.\u001b[39;49mauth_class)\n\u001b[1;32m    841\u001b[0m \u001b[39mself\u001b[39m\u001b[39m.\u001b[39m_password \u001b[39m=\u001b[39m \u001b[39mNone\u001b[39;00m  \u001b[39m# ensure password won't persist\u001b[39;00m\n\u001b[1;32m    842\u001b[0m \u001b[39mself\u001b[39m\u001b[39m.\u001b[39mauth_class\u001b[39m.\u001b[39mreset_secrets()\n",
      "File \u001b[0;32m~/Desktop/Project/SnowflakePipeline/env/lib/python3.9/site-packages/snowflake/connector/connection.py:1099\u001b[0m, in \u001b[0;36mSnowflakeConnection.authenticate_with_retry\u001b[0;34m(self, auth_instance)\u001b[0m\n\u001b[1;32m   1096\u001b[0m \u001b[39mdef\u001b[39;00m \u001b[39mauthenticate_with_retry\u001b[39m(\u001b[39mself\u001b[39m, auth_instance) \u001b[39m-\u001b[39m\u001b[39m>\u001b[39m \u001b[39mNone\u001b[39;00m:\n\u001b[1;32m   1097\u001b[0m     \u001b[39m# make some changes if needed before real __authenticate\u001b[39;00m\n\u001b[1;32m   1098\u001b[0m     \u001b[39mtry\u001b[39;00m:\n\u001b[0;32m-> 1099\u001b[0m         \u001b[39mself\u001b[39;49m\u001b[39m.\u001b[39;49m_authenticate(auth_instance)\n\u001b[1;32m   1100\u001b[0m     \u001b[39mexcept\u001b[39;00m ReauthenticationRequest \u001b[39mas\u001b[39;00m ex:\n\u001b[1;32m   1101\u001b[0m         \u001b[39m# cached id_token expiration error, we have cleaned id_token and try to authenticate again\u001b[39;00m\n\u001b[1;32m   1102\u001b[0m         logger\u001b[39m.\u001b[39mdebug(\u001b[39m\"\u001b[39m\u001b[39mID token expired. Reauthenticating...: \u001b[39m\u001b[39m%s\u001b[39;00m\u001b[39m\"\u001b[39m, ex)\n",
      "File \u001b[0;32m~/Desktop/Project/SnowflakePipeline/env/lib/python3.9/site-packages/snowflake/connector/connection.py:1170\u001b[0m, in \u001b[0;36mSnowflakeConnection._authenticate\u001b[0;34m(self, auth_instance)\u001b[0m\n\u001b[1;32m   1168\u001b[0m \u001b[39mexcept\u001b[39;00m OperationalError \u001b[39mas\u001b[39;00m auth_op:\n\u001b[1;32m   1169\u001b[0m     \u001b[39mif\u001b[39;00m auth_op\u001b[39m.\u001b[39merrno \u001b[39m==\u001b[39m ER_FAILED_TO_CONNECT_TO_DB:\n\u001b[0;32m-> 1170\u001b[0m         \u001b[39mraise\u001b[39;00m auth_op \u001b[39mfrom\u001b[39;00m \u001b[39me\u001b[39;00m\n\u001b[1;32m   1171\u001b[0m     logger\u001b[39m.\u001b[39mdebug(\u001b[39m\"\u001b[39m\u001b[39mContinuing authenticator specific timeout handling\u001b[39m\u001b[39m\"\u001b[39m)\n\u001b[1;32m   1172\u001b[0m     \u001b[39mcontinue\u001b[39;00m\n",
      "File \u001b[0;32m~/Desktop/Project/SnowflakePipeline/env/lib/python3.9/site-packages/snowflake/connector/connection.py:1147\u001b[0m, in \u001b[0;36mSnowflakeConnection._authenticate\u001b[0;34m(self, auth_instance)\u001b[0m\n\u001b[1;32m   1145\u001b[0m \u001b[39mwhile\u001b[39;00m \u001b[39mTrue\u001b[39;00m:\n\u001b[1;32m   1146\u001b[0m     \u001b[39mtry\u001b[39;00m:\n\u001b[0;32m-> 1147\u001b[0m         auth_instance\u001b[39m.\u001b[39;49mhandle_timeout(\n\u001b[1;32m   1148\u001b[0m             authenticator\u001b[39m=\u001b[39;49m\u001b[39mself\u001b[39;49m\u001b[39m.\u001b[39;49m_authenticator,\n\u001b[1;32m   1149\u001b[0m             service_name\u001b[39m=\u001b[39;49m\u001b[39mself\u001b[39;49m\u001b[39m.\u001b[39;49mservice_name,\n\u001b[1;32m   1150\u001b[0m             account\u001b[39m=\u001b[39;49m\u001b[39mself\u001b[39;49m\u001b[39m.\u001b[39;49maccount,\n\u001b[1;32m   1151\u001b[0m             user\u001b[39m=\u001b[39;49m\u001b[39mself\u001b[39;49m\u001b[39m.\u001b[39;49muser,\n\u001b[1;32m   1152\u001b[0m             password\u001b[39m=\u001b[39;49m\u001b[39mself\u001b[39;49m\u001b[39m.\u001b[39;49m_password,\n\u001b[1;32m   1153\u001b[0m         )\n\u001b[1;32m   1154\u001b[0m         auth\u001b[39m.\u001b[39mauthenticate(\n\u001b[1;32m   1155\u001b[0m             auth_instance\u001b[39m=\u001b[39mauth_instance,\n\u001b[1;32m   1156\u001b[0m             account\u001b[39m=\u001b[39m\u001b[39mself\u001b[39m\u001b[39m.\u001b[39maccount,\n\u001b[0;32m   (...)\u001b[0m\n\u001b[1;32m   1166\u001b[0m             session_parameters\u001b[39m=\u001b[39m\u001b[39mself\u001b[39m\u001b[39m.\u001b[39m_session_parameters,\n\u001b[1;32m   1167\u001b[0m         )\n\u001b[1;32m   1168\u001b[0m     \u001b[39mexcept\u001b[39;00m OperationalError \u001b[39mas\u001b[39;00m auth_op:\n",
      "File \u001b[0;32m~/Desktop/Project/SnowflakePipeline/env/lib/python3.9/site-packages/snowflake/connector/auth/by_plugin.py:214\u001b[0m, in \u001b[0;36mAuthByPlugin.handle_timeout\u001b[0;34m(***failed resolving arguments***)\u001b[0m\n\u001b[1;32m    212\u001b[0m \u001b[39mif\u001b[39;00m \u001b[39mnot\u001b[39;00m \u001b[39mself\u001b[39m\u001b[39m.\u001b[39m_retry_ctx\u001b[39m.\u001b[39mshould_retry():\n\u001b[1;32m    213\u001b[0m     \u001b[39mself\u001b[39m\u001b[39m.\u001b[39m_retry_ctx\u001b[39m.\u001b[39mreset()\n\u001b[0;32m--> 214\u001b[0m     \u001b[39mraise\u001b[39;00m OperationalError(\n\u001b[1;32m    215\u001b[0m         msg\u001b[39m=\u001b[39m\u001b[39mf\u001b[39m\u001b[39m\"\u001b[39m\u001b[39mCould not connect to Snowflake backend after \u001b[39m\u001b[39m{\u001b[39;00m\u001b[39mself\u001b[39m\u001b[39m.\u001b[39m_retry_ctx\u001b[39m.\u001b[39mget_current_retry_count()\u001b[39m}\u001b[39;00m\u001b[39m attempt(s).\u001b[39m\u001b[39m\"\u001b[39m\n\u001b[1;32m    216\u001b[0m         \u001b[39m\"\u001b[39m\u001b[39mAborting\u001b[39m\u001b[39m\"\u001b[39m,\n\u001b[1;32m    217\u001b[0m         errno\u001b[39m=\u001b[39mER_FAILED_TO_CONNECT_TO_DB,\n\u001b[1;32m    218\u001b[0m     )\n\u001b[1;32m    219\u001b[0m \u001b[39melse\u001b[39;00m:\n\u001b[1;32m    220\u001b[0m     logger\u001b[39m.\u001b[39mdebug(\n\u001b[1;32m    221\u001b[0m         \u001b[39mf\u001b[39m\u001b[39m\"\u001b[39m\u001b[39mHit connection timeout, attempt number \u001b[39m\u001b[39m{\u001b[39;00m\u001b[39mself\u001b[39m\u001b[39m.\u001b[39m_retry_ctx\u001b[39m.\u001b[39mget_current_retry_count()\u001b[39m}\u001b[39;00m\u001b[39m.\u001b[39m\u001b[39m\"\u001b[39m\n\u001b[1;32m    222\u001b[0m         \u001b[39m\"\u001b[39m\u001b[39m Will retry in a bit...\u001b[39m\u001b[39m\"\u001b[39m\n\u001b[1;32m    223\u001b[0m     )\n",
      "\u001b[0;31mOperationalError\u001b[0m: 250001: Could not connect to Snowflake backend after 0 attempt(s).Aborting"
     ]
    }
   ],
   "source": [
    "con_def = snowflake.connector.connect(user='ABARKANETL',\n",
    "                                     account='https://pswmizs-yvb29577.snowflakecomputing.com',\n",
    "                                     region = 'us-east-l',\n",
    "                                     password ='Smellybark123',\n",
    "                                     database='pyetl',      \n",
    "                                     warehouse='pyetl',  \n",
    "                                     schema ='airbnb',\n",
    "                                     autocommit=True)         \n",
    "\n",
    "db_cursor_def = con_def.cursor()"
   ]
  }
 ],
 "metadata": {
  "kernelspec": {
   "display_name": "env",
   "language": "python",
   "name": "python3"
  },
  "language_info": {
   "codemirror_mode": {
    "name": "ipython",
    "version": 3
   },
   "file_extension": ".py",
   "mimetype": "text/x-python",
   "name": "python",
   "nbconvert_exporter": "python",
   "pygments_lexer": "ipython3",
   "version": "3.9.6"
  },
  "orig_nbformat": 4
 },
 "nbformat": 4,
 "nbformat_minor": 2
}
